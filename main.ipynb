{
 "cells": [
  {
   "cell_type": "markdown",
   "id": "64c4f4d7",
   "metadata": {
    "papermill": {
     "duration": 0.012484,
     "end_time": "2023-03-15T07:40:26.795957",
     "exception": false,
     "start_time": "2023-03-15T07:40:26.783473",
     "status": "completed"
    },
    "tags": []
   },
   "source": [
    "# Forecasting Typhoons by Machine Learning\n",
    "- Let's forecast typhoon's future like movement, wind speed, pressure, etc."
   ]
  },
  {
   "cell_type": "code",
   "execution_count": 1,
   "id": "6a6c0ee4",
   "metadata": {
    "_cell_guid": "b1076dfc-b9ad-4769-8c92-a6c4dae69d19",
    "_uuid": "8f2839f25d086af736a60e9eeb907d3b93b6e0e5",
    "execution": {
     "iopub.execute_input": "2023-03-15T07:40:26.821152Z",
     "iopub.status.busy": "2023-03-15T07:40:26.820383Z",
     "iopub.status.idle": "2023-03-15T07:40:26.830999Z",
     "shell.execute_reply": "2023-03-15T07:40:26.830011Z"
    },
    "papermill": {
     "duration": 0.026228,
     "end_time": "2023-03-15T07:40:26.833616",
     "exception": false,
     "start_time": "2023-03-15T07:40:26.807388",
     "status": "completed"
    },
    "tags": []
   },
   "outputs": [],
   "source": [
    "import numpy as np\n",
    "import pandas as pd\n",
    "import matplotlib.pyplot as plt"
   ]
  },
  {
   "cell_type": "markdown",
   "id": "4406f794",
   "metadata": {
    "papermill": {
     "duration": 0.011154,
     "end_time": "2023-03-15T07:40:26.856464",
     "exception": false,
     "start_time": "2023-03-15T07:40:26.845310",
     "status": "completed"
    },
    "tags": []
   },
   "source": [
    "# Data Load & Preprocessing\n",
    "- We've already analized data on [my previous notebook](https://www.kaggle.com/code/skyil7/time-series-typhoon-eda-visualization-on-map).\n",
    "- So Let's jump right into fun parts."
   ]
  },
  {
   "cell_type": "code",
   "execution_count": 2,
   "id": "82ab44ef",
   "metadata": {},
   "outputs": [],
   "source": [
    "# code nó chia theo từng dòng nên để chạy thì cũng chạy từng dòng\n",
    "# Ấn shift + enter để chayh\n"
   ]
  },
  {
   "cell_type": "code",
   "execution_count": 3,
   "id": "0c50463c",
   "metadata": {
    "execution": {
     "iopub.execute_input": "2023-03-15T07:40:26.882339Z",
     "iopub.status.busy": "2023-03-15T07:40:26.881850Z",
     "iopub.status.idle": "2023-03-15T07:40:27.143456Z",
     "shell.execute_reply": "2023-03-15T07:40:27.142129Z"
    },
    "papermill": {
     "duration": 0.276886,
     "end_time": "2023-03-15T07:40:27.145923",
     "exception": false,
     "start_time": "2023-03-15T07:40:26.869037",
     "status": "completed"
    },
    "tags": []
   },
   "outputs": [
    {
     "data": {
      "text/html": [
       "<div>\n",
       "<style scoped>\n",
       "    .dataframe tbody tr th:only-of-type {\n",
       "        vertical-align: middle;\n",
       "    }\n",
       "\n",
       "    .dataframe tbody tr th {\n",
       "        vertical-align: top;\n",
       "    }\n",
       "\n",
       "    .dataframe thead th {\n",
       "        text-align: right;\n",
       "    }\n",
       "</style>\n",
       "<table border=\"1\" class=\"dataframe\">\n",
       "  <thead>\n",
       "    <tr style=\"text-align: right;\">\n",
       "      <th></th>\n",
       "      <th>International number ID</th>\n",
       "      <th>year</th>\n",
       "      <th>month</th>\n",
       "      <th>day</th>\n",
       "      <th>hour</th>\n",
       "      <th>grade</th>\n",
       "      <th>Latitude of the center</th>\n",
       "      <th>Longitude of the center</th>\n",
       "      <th>Central pressure</th>\n",
       "      <th>Maximum sustained wind speed</th>\n",
       "      <th>Direction of the longest radius of 50kt winds or greater</th>\n",
       "      <th>The longeast radius of 50kt winds or greater</th>\n",
       "      <th>The shortest radius of 50kt winds or greater</th>\n",
       "      <th>Direction of the longest radius of 30kt winds or greater</th>\n",
       "      <th>The longeast radius of 30kt winds or greater</th>\n",
       "      <th>The shortest radius of 30kt winds or greater</th>\n",
       "      <th>Indicator of landfall or passage</th>\n",
       "    </tr>\n",
       "  </thead>\n",
       "  <tbody>\n",
       "    <tr>\n",
       "      <th>0</th>\n",
       "      <td>5101</td>\n",
       "      <td>1951</td>\n",
       "      <td>2</td>\n",
       "      <td>19</td>\n",
       "      <td>6</td>\n",
       "      <td>Tropical Depression</td>\n",
       "      <td>200</td>\n",
       "      <td>1385</td>\n",
       "      <td>1010</td>\n",
       "      <td>NaN</td>\n",
       "      <td>NaN</td>\n",
       "      <td>NaN</td>\n",
       "      <td>NaN</td>\n",
       "      <td>NaN</td>\n",
       "      <td>NaN</td>\n",
       "      <td>NaN</td>\n",
       "      <td></td>\n",
       "    </tr>\n",
       "    <tr>\n",
       "      <th>1</th>\n",
       "      <td>5101</td>\n",
       "      <td>1951</td>\n",
       "      <td>2</td>\n",
       "      <td>19</td>\n",
       "      <td>12</td>\n",
       "      <td>Tropical Depression</td>\n",
       "      <td>200</td>\n",
       "      <td>1385</td>\n",
       "      <td>1010</td>\n",
       "      <td>NaN</td>\n",
       "      <td>NaN</td>\n",
       "      <td>NaN</td>\n",
       "      <td>NaN</td>\n",
       "      <td>NaN</td>\n",
       "      <td>NaN</td>\n",
       "      <td>NaN</td>\n",
       "      <td></td>\n",
       "    </tr>\n",
       "    <tr>\n",
       "      <th>2</th>\n",
       "      <td>5101</td>\n",
       "      <td>1951</td>\n",
       "      <td>2</td>\n",
       "      <td>19</td>\n",
       "      <td>18</td>\n",
       "      <td>Tropical Depression</td>\n",
       "      <td>230</td>\n",
       "      <td>1421</td>\n",
       "      <td>1000</td>\n",
       "      <td>NaN</td>\n",
       "      <td>NaN</td>\n",
       "      <td>NaN</td>\n",
       "      <td>NaN</td>\n",
       "      <td>NaN</td>\n",
       "      <td>NaN</td>\n",
       "      <td>NaN</td>\n",
       "      <td></td>\n",
       "    </tr>\n",
       "    <tr>\n",
       "      <th>3</th>\n",
       "      <td>5101</td>\n",
       "      <td>1951</td>\n",
       "      <td>2</td>\n",
       "      <td>20</td>\n",
       "      <td>0</td>\n",
       "      <td>Tropical Cyclone of TS intensity or higher</td>\n",
       "      <td>250</td>\n",
       "      <td>1460</td>\n",
       "      <td>994</td>\n",
       "      <td>NaN</td>\n",
       "      <td>NaN</td>\n",
       "      <td>NaN</td>\n",
       "      <td>NaN</td>\n",
       "      <td>NaN</td>\n",
       "      <td>NaN</td>\n",
       "      <td>NaN</td>\n",
       "      <td></td>\n",
       "    </tr>\n",
       "    <tr>\n",
       "      <th>4</th>\n",
       "      <td>5101</td>\n",
       "      <td>1951</td>\n",
       "      <td>2</td>\n",
       "      <td>20</td>\n",
       "      <td>6</td>\n",
       "      <td>Tropical Cyclone of TS intensity or higher</td>\n",
       "      <td>276</td>\n",
       "      <td>1506</td>\n",
       "      <td>994</td>\n",
       "      <td>NaN</td>\n",
       "      <td>NaN</td>\n",
       "      <td>NaN</td>\n",
       "      <td>NaN</td>\n",
       "      <td>NaN</td>\n",
       "      <td>NaN</td>\n",
       "      <td>NaN</td>\n",
       "      <td></td>\n",
       "    </tr>\n",
       "  </tbody>\n",
       "</table>\n",
       "</div>"
      ],
      "text/plain": [
       "   International number ID  year  month  day  hour  \\\n",
       "0                     5101  1951      2   19     6   \n",
       "1                     5101  1951      2   19    12   \n",
       "2                     5101  1951      2   19    18   \n",
       "3                     5101  1951      2   20     0   \n",
       "4                     5101  1951      2   20     6   \n",
       "\n",
       "                                        grade  Latitude of the center  \\\n",
       "0                         Tropical Depression                     200   \n",
       "1                         Tropical Depression                     200   \n",
       "2                         Tropical Depression                     230   \n",
       "3  Tropical Cyclone of TS intensity or higher                     250   \n",
       "4  Tropical Cyclone of TS intensity or higher                     276   \n",
       "\n",
       "   Longitude of the center  Central pressure  Maximum sustained wind speed  \\\n",
       "0                     1385              1010                           NaN   \n",
       "1                     1385              1010                           NaN   \n",
       "2                     1421              1000                           NaN   \n",
       "3                     1460               994                           NaN   \n",
       "4                     1506               994                           NaN   \n",
       "\n",
       "  Direction of the longest radius of 50kt winds or greater  \\\n",
       "0                                                NaN         \n",
       "1                                                NaN         \n",
       "2                                                NaN         \n",
       "3                                                NaN         \n",
       "4                                                NaN         \n",
       "\n",
       "   The longeast radius of 50kt winds or greater  \\\n",
       "0                                           NaN   \n",
       "1                                           NaN   \n",
       "2                                           NaN   \n",
       "3                                           NaN   \n",
       "4                                           NaN   \n",
       "\n",
       "   The shortest radius of 50kt winds or greater  \\\n",
       "0                                           NaN   \n",
       "1                                           NaN   \n",
       "2                                           NaN   \n",
       "3                                           NaN   \n",
       "4                                           NaN   \n",
       "\n",
       "  Direction of the longest radius of 30kt winds or greater  \\\n",
       "0                                                NaN         \n",
       "1                                                NaN         \n",
       "2                                                NaN         \n",
       "3                                                NaN         \n",
       "4                                                NaN         \n",
       "\n",
       "   The longeast radius of 30kt winds or greater  \\\n",
       "0                                           NaN   \n",
       "1                                           NaN   \n",
       "2                                           NaN   \n",
       "3                                           NaN   \n",
       "4                                           NaN   \n",
       "\n",
       "   The shortest radius of 30kt winds or greater  \\\n",
       "0                                           NaN   \n",
       "1                                           NaN   \n",
       "2                                           NaN   \n",
       "3                                           NaN   \n",
       "4                                           NaN   \n",
       "\n",
       "  Indicator of landfall or passage  \n",
       "0                                   \n",
       "1                                   \n",
       "2                                   \n",
       "3                                   \n",
       "4                                   "
      ]
     },
     "execution_count": 3,
     "metadata": {},
     "output_type": "execute_result"
    }
   ],
   "source": [
    "data = pd.read_csv(r\"C:\\Users\\asus\\Desktop\\python\\typhoon_data.csv\", index_col=0)\n",
    "data.head()"
   ]
  },
  {
   "cell_type": "code",
   "execution_count": 4,
   "id": "52fd6cd3",
   "metadata": {
    "execution": {
     "iopub.execute_input": "2023-03-15T07:40:27.171936Z",
     "iopub.status.busy": "2023-03-15T07:40:27.171486Z",
     "iopub.status.idle": "2023-03-15T07:40:27.196829Z",
     "shell.execute_reply": "2023-03-15T07:40:27.195689Z"
    },
    "papermill": {
     "duration": 0.041547,
     "end_time": "2023-03-15T07:40:27.199662",
     "exception": false,
     "start_time": "2023-03-15T07:40:27.158115",
     "status": "completed"
    },
    "tags": []
   },
   "outputs": [],
   "source": [
    "# scale values and drops unnecessary columns\n",
    "data[\"Latitude of the center\"] /= 10\n",
    "data[\"Longitude of the center\"] /= 10\n",
    "data = data.drop([\"Indicator of landfall or passage\"], axis=1)"
   ]
  },
  {
   "cell_type": "code",
   "execution_count": 5,
   "id": "35d67aef",
   "metadata": {
    "execution": {
     "iopub.execute_input": "2023-03-15T07:40:27.225930Z",
     "iopub.status.busy": "2023-03-15T07:40:27.225430Z",
     "iopub.status.idle": "2023-03-15T07:40:27.264529Z",
     "shell.execute_reply": "2023-03-15T07:40:27.263422Z"
    },
    "papermill": {
     "duration": 0.056013,
     "end_time": "2023-03-15T07:40:27.267733",
     "exception": false,
     "start_time": "2023-03-15T07:40:27.211720",
     "status": "completed"
    },
    "tags": []
   },
   "outputs": [
    {
     "name": "stdout",
     "output_type": "stream",
     "text": [
      "<class 'pandas.core.frame.DataFrame'>\n",
      "Index: 43356 entries, 25268 to 68623\n",
      "Data columns (total 16 columns):\n",
      " #   Column                                                    Non-Null Count  Dtype  \n",
      "---  ------                                                    --------------  -----  \n",
      " 0   International number ID                                   43356 non-null  int64  \n",
      " 1   year                                                      43356 non-null  int64  \n",
      " 2   month                                                     43356 non-null  int64  \n",
      " 3   day                                                       43356 non-null  int64  \n",
      " 4   hour                                                      43356 non-null  int64  \n",
      " 5   grade                                                     43356 non-null  object \n",
      " 6   Latitude of the center                                    43356 non-null  float64\n",
      " 7   Longitude of the center                                   43356 non-null  float64\n",
      " 8   Central pressure                                          43356 non-null  int64  \n",
      " 9   Maximum sustained wind speed                              43356 non-null  float64\n",
      " 10  Direction of the longest radius of 50kt winds or greater  27208 non-null  object \n",
      " 11  The longeast radius of 50kt winds or greater              27208 non-null  float64\n",
      " 12  The shortest radius of 50kt winds or greater              27208 non-null  float64\n",
      " 13  Direction of the longest radius of 30kt winds or greater  27208 non-null  object \n",
      " 14  The longeast radius of 30kt winds or greater              27208 non-null  float64\n",
      " 15  The shortest radius of 30kt winds or greater              27208 non-null  float64\n",
      "dtypes: float64(7), int64(6), object(3)\n",
      "memory usage: 5.6+ MB\n"
     ]
    }
   ],
   "source": [
    "# Drop rows before year 1977 because they used different method to grade and record typhoons\n",
    "data = data[data[\"year\"] >= 1977]\n",
    "data.info()"
   ]
  },
  {
   "cell_type": "markdown",
   "id": "893269bf",
   "metadata": {
    "papermill": {
     "duration": 0.011389,
     "end_time": "2023-03-15T07:40:27.291099",
     "exception": false,
     "start_time": "2023-03-15T07:40:27.279710",
     "status": "completed"
    },
    "tags": []
   },
   "source": [
    "## Dealing with \"Just Entered\" grade.\n",
    "- There is no grade for just entered TDs.\n",
    "- Since there are only 28 those just entered rows, and They are first head of the TD datas...\n",
    "- Let's just Drop them for this time."
   ]
  },
  {
   "cell_type": "code",
   "execution_count": 6,
   "id": "54580073",
   "metadata": {
    "execution": {
     "iopub.execute_input": "2023-03-15T07:40:27.316690Z",
     "iopub.status.busy": "2023-03-15T07:40:27.316273Z",
     "iopub.status.idle": "2023-03-15T07:40:27.327628Z",
     "shell.execute_reply": "2023-03-15T07:40:27.326324Z"
    },
    "papermill": {
     "duration": 0.027573,
     "end_time": "2023-03-15T07:40:27.330378",
     "exception": false,
     "start_time": "2023-03-15T07:40:27.302805",
     "status": "completed"
    },
    "tags": []
   },
   "outputs": [
    {
     "data": {
      "text/plain": [
       "(28, 16)"
      ]
     },
     "execution_count": 6,
     "metadata": {},
     "output_type": "execute_result"
    }
   ],
   "source": [
    "idx = data[\"grade\"]==\"Just entering into the responsible area of RSMC Tokyo-Typhoon Center\"\n",
    "data[idx].shape"
   ]
  },
  {
   "cell_type": "code",
   "execution_count": 7,
   "id": "055a2e48",
   "metadata": {
    "execution": {
     "iopub.execute_input": "2023-03-15T07:40:27.356091Z",
     "iopub.status.busy": "2023-03-15T07:40:27.355679Z",
     "iopub.status.idle": "2023-03-15T07:40:27.371479Z",
     "shell.execute_reply": "2023-03-15T07:40:27.370024Z"
    },
    "papermill": {
     "duration": 0.032459,
     "end_time": "2023-03-15T07:40:27.374639",
     "exception": false,
     "start_time": "2023-03-15T07:40:27.342180",
     "status": "completed"
    },
    "tags": []
   },
   "outputs": [
    {
     "data": {
      "text/plain": [
       "(43328, 16)"
      ]
     },
     "execution_count": 7,
     "metadata": {},
     "output_type": "execute_result"
    }
   ],
   "source": [
    "data = data.drop(data[idx].index)\n",
    "data.shape"
   ]
  },
  {
   "cell_type": "markdown",
   "id": "15cb2cf1",
   "metadata": {
    "papermill": {
     "duration": 0.011799,
     "end_time": "2023-03-15T07:40:27.399202",
     "exception": false,
     "start_time": "2023-03-15T07:40:27.387403",
     "status": "completed"
    },
    "tags": []
   },
   "source": [
    "## Other things to Cleaning Data"
   ]
  },
  {
   "cell_type": "code",
   "execution_count": 8,
   "id": "2473a6db",
   "metadata": {
    "execution": {
     "iopub.execute_input": "2023-03-15T07:40:27.425444Z",
     "iopub.status.busy": "2023-03-15T07:40:27.424975Z",
     "iopub.status.idle": "2023-03-15T07:40:27.437148Z",
     "shell.execute_reply": "2023-03-15T07:40:27.435971Z"
    },
    "papermill": {
     "duration": 0.02836,
     "end_time": "2023-03-15T07:40:27.439553",
     "exception": false,
     "start_time": "2023-03-15T07:40:27.411193",
     "status": "completed"
    },
    "tags": []
   },
   "outputs": [
    {
     "data": {
      "text/plain": [
       "array(['Tropical Depression', 'Severe Tropical Storm', 'Tropical Storm',\n",
       "       'Extra-tropical Cyclone', 'Typhoon'], dtype=object)"
      ]
     },
     "execution_count": 8,
     "metadata": {},
     "output_type": "execute_result"
    }
   ],
   "source": [
    "data[\"grade\"].unique()"
   ]
  },
  {
   "cell_type": "code",
   "execution_count": 9,
   "id": "4a4bc048",
   "metadata": {
    "execution": {
     "iopub.execute_input": "2023-03-15T07:40:27.466319Z",
     "iopub.status.busy": "2023-03-15T07:40:27.465894Z",
     "iopub.status.idle": "2023-03-15T07:40:27.509567Z",
     "shell.execute_reply": "2023-03-15T07:40:27.508081Z"
    },
    "papermill": {
     "duration": 0.060834,
     "end_time": "2023-03-15T07:40:27.512710",
     "exception": false,
     "start_time": "2023-03-15T07:40:27.451876",
     "status": "completed"
    },
    "tags": []
   },
   "outputs": [],
   "source": [
    "data = data.replace(\"Tropical Depression\", \"TD\")\n",
    "data = data.replace(\"Severe Tropical Storm\", \"STS\")\n",
    "data = data.replace(\"Tropical Storm\", \"TS\")\n",
    "data = data.replace(\"Extra-tropical Cyclone\", \"L\")\n",
    "data = data.replace(\"Typhoon\", \"TY\")"
   ]
  },
  {
   "cell_type": "markdown",
   "id": "bfd55944",
   "metadata": {
    "papermill": {
     "duration": 0.011686,
     "end_time": "2023-03-15T07:40:27.536626",
     "exception": false,
     "start_time": "2023-03-15T07:40:27.524940",
     "status": "completed"
    },
    "tags": []
   },
   "source": [
    "# Drop the rows that is not typhoon.\n",
    "- We want to predict(forecast) typhoons movement and size, directions like that.\n",
    "- So we don't need minor informations of Tropical Depressions and Cyclones."
   ]
  },
  {
   "cell_type": "code",
   "execution_count": 10,
   "id": "a4758447",
   "metadata": {
    "execution": {
     "iopub.execute_input": "2023-03-15T07:40:27.562852Z",
     "iopub.status.busy": "2023-03-15T07:40:27.562453Z",
     "iopub.status.idle": "2023-03-15T07:40:27.585944Z",
     "shell.execute_reply": "2023-03-15T07:40:27.584491Z"
    },
    "papermill": {
     "duration": 0.040111,
     "end_time": "2023-03-15T07:40:27.588780",
     "exception": false,
     "start_time": "2023-03-15T07:40:27.548669",
     "status": "completed"
    },
    "tags": []
   },
   "outputs": [
    {
     "data": {
      "text/plain": [
       "array(['STS', 'TS', 'TY'], dtype=object)"
      ]
     },
     "execution_count": 10,
     "metadata": {},
     "output_type": "execute_result"
    }
   ],
   "source": [
    "data[data[\"Direction of the longest radius of 50kt winds or greater\"].isna()][\"grade\"].unique()\n",
    "data[data[\"Direction of the longest radius of 50kt winds or greater\"].notna()][\"grade\"].unique()"
   ]
  },
  {
   "cell_type": "code",
   "execution_count": 11,
   "id": "4a935d9e",
   "metadata": {
    "execution": {
     "iopub.execute_input": "2023-03-15T07:40:27.615718Z",
     "iopub.status.busy": "2023-03-15T07:40:27.615111Z",
     "iopub.status.idle": "2023-03-15T07:40:27.633857Z",
     "shell.execute_reply": "2023-03-15T07:40:27.632639Z"
    },
    "papermill": {
     "duration": 0.035169,
     "end_time": "2023-03-15T07:40:27.636775",
     "exception": false,
     "start_time": "2023-03-15T07:40:27.601606",
     "status": "completed"
    },
    "tags": []
   },
   "outputs": [],
   "source": [
    "data = data.dropna()"
   ]
  },
  {
   "cell_type": "markdown",
   "id": "3fbe494e",
   "metadata": {
    "papermill": {
     "duration": 0.012068,
     "end_time": "2023-03-15T07:40:27.661918",
     "exception": false,
     "start_time": "2023-03-15T07:40:27.649850",
     "status": "completed"
    },
    "tags": []
   },
   "source": [
    "# Data Vectorization"
   ]
  },
  {
   "cell_type": "code",
   "execution_count": 12,
   "id": "6637c57a",
   "metadata": {
    "execution": {
     "iopub.execute_input": "2023-03-15T07:40:27.689108Z",
     "iopub.status.busy": "2023-03-15T07:40:27.687904Z",
     "iopub.status.idle": "2023-03-15T07:40:27.695624Z",
     "shell.execute_reply": "2023-03-15T07:40:27.694625Z"
    },
    "papermill": {
     "duration": 0.023878,
     "end_time": "2023-03-15T07:40:27.698185",
     "exception": false,
     "start_time": "2023-03-15T07:40:27.674307",
     "status": "completed"
    },
    "tags": []
   },
   "outputs": [],
   "source": [
    "data = data.drop([\"Direction of the longest radius of 50kt winds or greater\", \"Direction of the longest radius of 30kt winds or greater\"], axis=1)"
   ]
  },
  {
   "cell_type": "code",
   "execution_count": 13,
   "id": "fa0bb3c9",
   "metadata": {
    "execution": {
     "iopub.execute_input": "2023-03-15T07:40:27.726293Z",
     "iopub.status.busy": "2023-03-15T07:40:27.725053Z",
     "iopub.status.idle": "2023-03-15T07:40:27.733783Z",
     "shell.execute_reply": "2023-03-15T07:40:27.732725Z"
    },
    "papermill": {
     "duration": 0.025499,
     "end_time": "2023-03-15T07:40:27.736362",
     "exception": false,
     "start_time": "2023-03-15T07:40:27.710863",
     "status": "completed"
    },
    "tags": []
   },
   "outputs": [],
   "source": [
    "grade_map = {\"TD\":1, \"TS\":2, \"STS\":3, \"TY\":4}  # I made grade map using the starndard for grade Tropical Depressions of WMO\n",
    "data[\"grade\"] = data[\"grade\"].map(grade_map)"
   ]
  },
  {
   "cell_type": "markdown",
   "id": "9789ae48",
   "metadata": {
    "papermill": {
     "duration": 0.012235,
     "end_time": "2023-03-15T07:40:27.761075",
     "exception": false,
     "start_time": "2023-03-15T07:40:27.748840",
     "status": "completed"
    },
    "tags": []
   },
   "source": [
    "## Generalize measured time of data\n",
    "- Most of our data is measured in every 6 hours.\n",
    "- But some of our data is measured in 3 hours after the previous measure.\n",
    "- So I will drop every 3 hour interval rows for simplify our task."
   ]
  },
  {
   "cell_type": "code",
   "execution_count": 14,
   "id": "829cf73c",
   "metadata": {
    "execution": {
     "iopub.execute_input": "2023-03-15T07:40:27.789019Z",
     "iopub.status.busy": "2023-03-15T07:40:27.787861Z",
     "iopub.status.idle": "2023-03-15T07:40:27.796901Z",
     "shell.execute_reply": "2023-03-15T07:40:27.795637Z"
    },
    "papermill": {
     "duration": 0.026058,
     "end_time": "2023-03-15T07:40:27.799794",
     "exception": false,
     "start_time": "2023-03-15T07:40:27.773736",
     "status": "completed"
    },
    "tags": []
   },
   "outputs": [],
   "source": [
    "data = data[data[\"hour\"] % 6 == 0]"
   ]
  },
  {
   "cell_type": "markdown",
   "id": "64ff7621",
   "metadata": {
    "papermill": {
     "duration": 0.012014,
     "end_time": "2023-03-15T07:40:27.824151",
     "exception": false,
     "start_time": "2023-03-15T07:40:27.812137",
     "status": "completed"
    },
    "tags": []
   },
   "source": [
    "# Grouping data rows by each typhoons"
   ]
  },
  {
   "cell_type": "code",
   "execution_count": 15,
   "id": "c090ac6b",
   "metadata": {
    "execution": {
     "iopub.execute_input": "2023-03-15T07:40:27.850736Z",
     "iopub.status.busy": "2023-03-15T07:40:27.850284Z",
     "iopub.status.idle": "2023-03-15T07:40:27.871575Z",
     "shell.execute_reply": "2023-03-15T07:40:27.870324Z"
    },
    "papermill": {
     "duration": 0.03757,
     "end_time": "2023-03-15T07:40:27.874149",
     "exception": false,
     "start_time": "2023-03-15T07:40:27.836579",
     "status": "completed"
    },
    "tags": []
   },
   "outputs": [
    {
     "data": {
      "text/html": [
       "<div>\n",
       "<style scoped>\n",
       "    .dataframe tbody tr th:only-of-type {\n",
       "        vertical-align: middle;\n",
       "    }\n",
       "\n",
       "    .dataframe tbody tr th {\n",
       "        vertical-align: top;\n",
       "    }\n",
       "\n",
       "    .dataframe thead th {\n",
       "        text-align: right;\n",
       "    }\n",
       "</style>\n",
       "<table border=\"1\" class=\"dataframe\">\n",
       "  <thead>\n",
       "    <tr style=\"text-align: right;\">\n",
       "      <th></th>\n",
       "      <th>International number ID</th>\n",
       "      <th>year</th>\n",
       "      <th>month</th>\n",
       "      <th>day</th>\n",
       "      <th>hour</th>\n",
       "      <th>grade</th>\n",
       "      <th>Latitude of the center</th>\n",
       "      <th>Longitude of the center</th>\n",
       "      <th>Central pressure</th>\n",
       "      <th>Maximum sustained wind speed</th>\n",
       "      <th>The longeast radius of 50kt winds or greater</th>\n",
       "      <th>The shortest radius of 50kt winds or greater</th>\n",
       "      <th>The longeast radius of 30kt winds or greater</th>\n",
       "      <th>The shortest radius of 30kt winds or greater</th>\n",
       "    </tr>\n",
       "  </thead>\n",
       "  <tbody>\n",
       "    <tr>\n",
       "      <th>25272</th>\n",
       "      <td>7701</td>\n",
       "      <td>1977</td>\n",
       "      <td>3</td>\n",
       "      <td>28</td>\n",
       "      <td>0</td>\n",
       "      <td>3</td>\n",
       "      <td>5.6</td>\n",
       "      <td>158.8</td>\n",
       "      <td>990</td>\n",
       "      <td>50.0</td>\n",
       "      <td>0.0</td>\n",
       "      <td>0.0</td>\n",
       "      <td>125.0</td>\n",
       "      <td>125.0</td>\n",
       "    </tr>\n",
       "    <tr>\n",
       "      <th>25273</th>\n",
       "      <td>7701</td>\n",
       "      <td>1977</td>\n",
       "      <td>3</td>\n",
       "      <td>28</td>\n",
       "      <td>6</td>\n",
       "      <td>3</td>\n",
       "      <td>6.1</td>\n",
       "      <td>158.2</td>\n",
       "      <td>996</td>\n",
       "      <td>50.0</td>\n",
       "      <td>0.0</td>\n",
       "      <td>0.0</td>\n",
       "      <td>125.0</td>\n",
       "      <td>125.0</td>\n",
       "    </tr>\n",
       "    <tr>\n",
       "      <th>25274</th>\n",
       "      <td>7701</td>\n",
       "      <td>1977</td>\n",
       "      <td>3</td>\n",
       "      <td>28</td>\n",
       "      <td>12</td>\n",
       "      <td>3</td>\n",
       "      <td>6.6</td>\n",
       "      <td>157.5</td>\n",
       "      <td>1000</td>\n",
       "      <td>50.0</td>\n",
       "      <td>0.0</td>\n",
       "      <td>0.0</td>\n",
       "      <td>125.0</td>\n",
       "      <td>125.0</td>\n",
       "    </tr>\n",
       "    <tr>\n",
       "      <th>25275</th>\n",
       "      <td>7701</td>\n",
       "      <td>1977</td>\n",
       "      <td>3</td>\n",
       "      <td>28</td>\n",
       "      <td>18</td>\n",
       "      <td>2</td>\n",
       "      <td>7.0</td>\n",
       "      <td>156.8</td>\n",
       "      <td>1002</td>\n",
       "      <td>45.0</td>\n",
       "      <td>0.0</td>\n",
       "      <td>0.0</td>\n",
       "      <td>100.0</td>\n",
       "      <td>100.0</td>\n",
       "    </tr>\n",
       "    <tr>\n",
       "      <th>25276</th>\n",
       "      <td>7701</td>\n",
       "      <td>1977</td>\n",
       "      <td>3</td>\n",
       "      <td>29</td>\n",
       "      <td>0</td>\n",
       "      <td>2</td>\n",
       "      <td>7.3</td>\n",
       "      <td>156.0</td>\n",
       "      <td>1002</td>\n",
       "      <td>45.0</td>\n",
       "      <td>0.0</td>\n",
       "      <td>0.0</td>\n",
       "      <td>100.0</td>\n",
       "      <td>100.0</td>\n",
       "    </tr>\n",
       "  </tbody>\n",
       "</table>\n",
       "</div>"
      ],
      "text/plain": [
       "       International number ID  year  month  day  hour  grade  \\\n",
       "25272                     7701  1977      3   28     0      3   \n",
       "25273                     7701  1977      3   28     6      3   \n",
       "25274                     7701  1977      3   28    12      3   \n",
       "25275                     7701  1977      3   28    18      2   \n",
       "25276                     7701  1977      3   29     0      2   \n",
       "\n",
       "       Latitude of the center  Longitude of the center  Central pressure  \\\n",
       "25272                     5.6                    158.8               990   \n",
       "25273                     6.1                    158.2               996   \n",
       "25274                     6.6                    157.5              1000   \n",
       "25275                     7.0                    156.8              1002   \n",
       "25276                     7.3                    156.0              1002   \n",
       "\n",
       "       Maximum sustained wind speed  \\\n",
       "25272                          50.0   \n",
       "25273                          50.0   \n",
       "25274                          50.0   \n",
       "25275                          45.0   \n",
       "25276                          45.0   \n",
       "\n",
       "       The longeast radius of 50kt winds or greater  \\\n",
       "25272                                           0.0   \n",
       "25273                                           0.0   \n",
       "25274                                           0.0   \n",
       "25275                                           0.0   \n",
       "25276                                           0.0   \n",
       "\n",
       "       The shortest radius of 50kt winds or greater  \\\n",
       "25272                                           0.0   \n",
       "25273                                           0.0   \n",
       "25274                                           0.0   \n",
       "25275                                           0.0   \n",
       "25276                                           0.0   \n",
       "\n",
       "       The longeast radius of 30kt winds or greater  \\\n",
       "25272                                         125.0   \n",
       "25273                                         125.0   \n",
       "25274                                         125.0   \n",
       "25275                                         100.0   \n",
       "25276                                         100.0   \n",
       "\n",
       "       The shortest radius of 30kt winds or greater  \n",
       "25272                                         125.0  \n",
       "25273                                         125.0  \n",
       "25274                                         125.0  \n",
       "25275                                         100.0  \n",
       "25276                                         100.0  "
      ]
     },
     "execution_count": 15,
     "metadata": {},
     "output_type": "execute_result"
    }
   ],
   "source": [
    "data.head()"
   ]
  },
  {
   "cell_type": "code",
   "execution_count": 16,
   "id": "2b403d8f",
   "metadata": {
    "execution": {
     "iopub.execute_input": "2023-03-15T07:40:27.901311Z",
     "iopub.status.busy": "2023-03-15T07:40:27.900839Z",
     "iopub.status.idle": "2023-03-15T07:40:29.119245Z",
     "shell.execute_reply": "2023-03-15T07:40:29.117815Z"
    },
    "papermill": {
     "duration": 1.236781,
     "end_time": "2023-03-15T07:40:29.123556",
     "exception": false,
     "start_time": "2023-03-15T07:40:27.886775",
     "status": "completed"
    },
    "tags": []
   },
   "outputs": [
    {
     "name": "stdout",
     "output_type": "stream",
     "text": [
      "1174\n"
     ]
    }
   ],
   "source": [
    "ids = data[\"International number ID\"].unique() # Unique IDs of typhoons\n",
    "typhoons = list()\n",
    "for ID in ids:\n",
    "    typhoon = data[data[\"International number ID\"] == ID]\n",
    "    typhoon = typhoon.drop([\"International number ID\"], axis=1)\n",
    "    typhoons.append(typhoon)\n",
    "print(len(typhoons))"
   ]
  },
  {
   "cell_type": "markdown",
   "id": "d90394ba",
   "metadata": {
    "papermill": {
     "duration": 0.012295,
     "end_time": "2023-03-15T07:40:29.149676",
     "exception": false,
     "start_time": "2023-03-15T07:40:29.137381",
     "status": "completed"
    },
    "tags": []
   },
   "source": [
    "# How many data do we have?\n",
    "- Quantity of data is different by each typhoon.\n",
    "- Let's check a histogram."
   ]
  },
  {
   "cell_type": "code",
   "execution_count": 17,
   "id": "3bfaae38",
   "metadata": {
    "execution": {
     "iopub.execute_input": "2023-03-15T07:40:29.179906Z",
     "iopub.status.busy": "2023-03-15T07:40:29.178193Z",
     "iopub.status.idle": "2023-03-15T07:40:29.440075Z",
     "shell.execute_reply": "2023-03-15T07:40:29.438525Z"
    },
    "papermill": {
     "duration": 0.280604,
     "end_time": "2023-03-15T07:40:29.443684",
     "exception": false,
     "start_time": "2023-03-15T07:40:29.163080",
     "status": "completed"
    },
    "tags": []
   },
   "outputs": [
    {
     "data": {
      "image/png": "[encoded data removed]",
      "text/plain": [
       "<Figure size 640x480 with 1 Axes>"
      ]
     },
     "metadata": {},
     "output_type": "display_data"
    },
    {
     "name": "stdout",
     "output_type": "stream",
     "text": [
      "[200. 249. 286. 185. 133.  68.  38.  13.   0.   2.]\n"
     ]
    }
   ],
   "source": [
    "hist = data[\"International number ID\"].value_counts()\n",
    "n = plt.hist(hist)\n",
    "plt.show()\n",
    "print(n[0])"
   ]
  },
  {
   "cell_type": "markdown",
   "id": "2b96274e",
   "metadata": {
    "papermill": {
     "duration": 0.012616,
     "end_time": "2023-03-15T07:40:29.471209",
     "exception": false,
     "start_time": "2023-03-15T07:40:29.458593",
     "status": "completed"
    },
    "tags": []
   },
   "source": [
    "- Luckily, more than 75% of typhoons contains >10 rows."
   ]
  },
  {
   "cell_type": "markdown",
   "id": "75895c4d",
   "metadata": {
    "papermill": {
     "duration": 0.01272,
     "end_time": "2023-03-15T07:40:29.498001",
     "exception": false,
     "start_time": "2023-03-15T07:40:29.485281",
     "status": "completed"
    },
    "tags": []
   },
   "source": [
    "# Make Dataset for ML\n",
    "- Let's Define our task.\n",
    "- We're going to predict the typhoon's future state using the typhoon's previous state.\n",
    "- Than how much previous state datas are we gonna use?\n",
    "  - Basically, There are 6 hours interval between each row.\n",
    "  - But in some case, There are 3 hours interval.\n",
    "  - So using previous state of 3 hours ago is our best option. But there is a lack of data.\n",
    "  - Let's try to use 6 hours ago data for this time.\n",
    "\n",
    "## summary\n",
    "- We're gonna predict typhoon's state of 6 hours later with state of current typhoon and 6 hours previous state of typhoon.\n",
    "- We'll predict the state of typhoon below.\n",
    "  - Location(latitude and longitude) of the center, Central Pressure, wind speed, radius of 50kt/30kt winds or greater."
   ]
  },
  {
   "cell_type": "code",
   "execution_count": 18,
   "id": "76d3de49",
   "metadata": {
    "execution": {
     "iopub.execute_input": "2023-03-15T07:40:29.527195Z",
     "iopub.status.busy": "2023-03-15T07:40:29.526064Z",
     "iopub.status.idle": "2023-03-15T07:40:57.881984Z",
     "shell.execute_reply": "2023-03-15T07:40:57.880329Z"
    },
    "papermill": {
     "duration": 28.373687,
     "end_time": "2023-03-15T07:40:57.884857",
     "exception": false,
     "start_time": "2023-03-15T07:40:29.511170",
     "status": "completed"
    },
    "tags": []
   },
   "outputs": [
    {
     "name": "stdout",
     "output_type": "stream",
     "text": [
      "(20778, 3, 13)\n",
      "(297, 3, 13)\n"
     ]
    }
   ],
   "source": [
    "interval = 1\n",
    "dataset = np.empty((0, 3, 13))\n",
    "test_typhoons = np.empty((0,3,13))  # Preserve Some typhoons for model evaluation\n",
    "\n",
    "for typhoon in typhoons:\n",
    "    nptyphoon = np.array(typhoon)\n",
    "    for i in range(0, nptyphoon.shape[0]-3, interval):\n",
    "        single_data = nptyphoon[i:i+3]\n",
    "        single_data = np.expand_dims(single_data, axis=0)\n",
    "        if typhoon.iloc[0][\"year\"]==2022:\n",
    "            test_typhoons = np.append(test_typhoons, single_data, axis=0)\n",
    "            continue\n",
    "        dataset = np.append(dataset, single_data, axis=0)\n",
    "print(dataset.shape)  \n",
    "print(test_typhoons.shape)"
   ]
  },
  {
   "cell_type": "markdown",
   "id": "49245311",
   "metadata": {
    "papermill": {
     "duration": 0.013136,
     "end_time": "2023-03-15T07:40:57.911004",
     "exception": false,
     "start_time": "2023-03-15T07:40:57.897868",
     "status": "completed"
    },
    "tags": []
   },
   "source": [
    "# Machine Learning"
   ]
  },
  {
   "cell_type": "code",
   "execution_count": 19,
   "id": "a81d2574",
   "metadata": {
    "execution": {
     "iopub.execute_input": "2023-03-15T07:40:57.940341Z",
     "iopub.status.busy": "2023-03-15T07:40:57.939261Z",
     "iopub.status.idle": "2023-03-15T07:40:59.093072Z",
     "shell.execute_reply": "2023-03-15T07:40:59.091105Z"
    },
    "papermill": {
     "duration": 1.1716,
     "end_time": "2023-03-15T07:40:59.096155",
     "exception": false,
     "start_time": "2023-03-15T07:40:57.924555",
     "status": "completed"
    },
    "tags": []
   },
   "outputs": [
    {
     "name": "stdout",
     "output_type": "stream",
     "text": [
      "(14544, 2, 13)\n",
      "(14544, 8)\n",
      "(6234, 2, 13)\n",
      "(6234, 8)\n"
     ]
    }
   ],
   "source": [
    "# X, Y split\n",
    "x = dataset[:, :2, :]\n",
    "y = dataset[:, 2, 5:] # we don't predict year, month, day, hour, and grade\n",
    "\n",
    "# Train, Test split\n",
    "from sklearn.model_selection import train_test_split\n",
    "x_train, x_val, y_train, y_val = train_test_split(x, y, test_size=0.3, random_state=42, shuffle=True)\n",
    "print(x_train.shape)\n",
    "print(y_train.shape)\n",
    "print(x_val.shape)\n",
    "print(y_val.shape)"
   ]
  },
  {
   "cell_type": "code",
   "execution_count": 20,
   "id": "0a4b189f",
   "metadata": {
    "execution": {
     "iopub.execute_input": "2023-03-15T07:40:59.125181Z",
     "iopub.status.busy": "2023-03-15T07:40:59.124717Z",
     "iopub.status.idle": "2023-03-15T07:40:59.130811Z",
     "shell.execute_reply": "2023-03-15T07:40:59.129507Z"
    },
    "papermill": {
     "duration": 0.023417,
     "end_time": "2023-03-15T07:40:59.133484",
     "exception": false,
     "start_time": "2023-03-15T07:40:59.110067",
     "status": "completed"
    },
    "tags": []
   },
   "outputs": [],
   "source": [
    "# Flatten X data\n",
    "x_train = x_train.reshape(-1, 26)\n",
    "x_val = x_val.reshape(-1, 26)"
   ]
  },
  {
   "cell_type": "code",
   "execution_count": 21,
   "id": "8da73491",
   "metadata": {
    "execution": {
     "iopub.execute_input": "2023-03-15T07:40:59.161673Z",
     "iopub.status.busy": "2023-03-15T07:40:59.161199Z",
     "iopub.status.idle": "2023-03-15T07:40:59.177379Z",
     "shell.execute_reply": "2023-03-15T07:40:59.175662Z"
    },
    "papermill": {
     "duration": 0.033882,
     "end_time": "2023-03-15T07:40:59.180455",
     "exception": false,
     "start_time": "2023-03-15T07:40:59.146573",
     "status": "completed"
    },
    "tags": []
   },
   "outputs": [],
   "source": [
    "from sklearn.preprocessing import StandardScaler\n",
    "scale = StandardScaler()\n",
    "\n",
    "x_train = scale.fit_transform(x_train)\n",
    "x_val = scale.transform(x_val)"
   ]
  },
  {
   "cell_type": "markdown",
   "id": "29ea3e2d",
   "metadata": {
    "papermill": {
     "duration": 0.012797,
     "end_time": "2023-03-15T07:40:59.206396",
     "exception": false,
     "start_time": "2023-03-15T07:40:59.193599",
     "status": "completed"
    },
    "tags": []
   },
   "source": [
    "## Linear Regression"
   ]
  },
  {
   "cell_type": "code",
   "execution_count": 22,
   "id": "8ba0685e",
   "metadata": {
    "execution": {
     "iopub.execute_input": "2023-03-15T07:40:59.234503Z",
     "iopub.status.busy": "2023-03-15T07:40:59.234024Z",
     "iopub.status.idle": "2023-03-15T07:40:59.394165Z",
     "shell.execute_reply": "2023-03-15T07:40:59.392799Z"
    },
    "papermill": {
     "duration": 0.179018,
     "end_time": "2023-03-15T07:40:59.398627",
     "exception": false,
     "start_time": "2023-03-15T07:40:59.219609",
     "status": "completed"
    },
    "tags": []
   },
   "outputs": [
    {
     "name": "stdout",
     "output_type": "stream",
     "text": [
      "Training Score: 10.686176285554543\n",
      "Test Score: 10.784543398309982\n"
     ]
    },
    {
     "name": "stderr",
     "output_type": "stream",
     "text": [
      "c:\\Users\\asus\\AppData\\Local\\Programs\\Python\\Python312\\Lib\\site-packages\\sklearn\\metrics\\_regression.py:492: FutureWarning: 'squared' is deprecated in version 1.4 and will be removed in 1.6. To calculate the root mean squared error, use the function'root_mean_squared_error'.\n",
      "  warnings.warn(\n",
      "c:\\Users\\asus\\AppData\\Local\\Programs\\Python\\Python312\\Lib\\site-packages\\sklearn\\metrics\\_regression.py:492: FutureWarning: 'squared' is deprecated in version 1.4 and will be removed in 1.6. To calculate the root mean squared error, use the function'root_mean_squared_error'.\n",
      "  warnings.warn(\n"
     ]
    }
   ],
   "source": [
    "from sklearn.linear_model import LinearRegression\n",
    "from sklearn.metrics import mean_squared_error\n",
    "lr = LinearRegression()\n",
    "lr.fit(x_train, y_train)\n",
    "pred = lr.predict(x_train)\n",
    "rmse = mean_squared_error(pred, y_train, squared=False)\n",
    "\n",
    "print(\"Training Score:\", rmse)\n",
    "\n",
    "pred = lr.predict(x_val)\n",
    "rmse = mean_squared_error(pred, y_val, squared=False)\n",
    "print(\"Test Score:\", rmse)"
   ]
  },
  {
   "cell_type": "markdown",
   "id": "143256ab",
   "metadata": {
    "papermill": {
     "duration": 0.033414,
     "end_time": "2023-03-15T07:40:59.466452",
     "exception": false,
     "start_time": "2023-03-15T07:40:59.433038",
     "status": "completed"
    },
    "tags": []
   },
   "source": [
    "## Random Forest"
   ]
  },
  {
   "cell_type": "code",
   "execution_count": 23,
   "id": "35a0f3d2",
   "metadata": {
    "execution": {
     "iopub.execute_input": "2023-03-15T07:40:59.521139Z",
     "iopub.status.busy": "2023-03-15T07:40:59.520729Z",
     "iopub.status.idle": "2023-03-15T07:41:17.337387Z",
     "shell.execute_reply": "2023-03-15T07:41:17.335291Z"
    },
    "papermill": {
     "duration": 17.839876,
     "end_time": "2023-03-15T07:41:17.340089",
     "exception": false,
     "start_time": "2023-03-15T07:40:59.500213",
     "status": "completed"
    },
    "tags": []
   },
   "outputs": [
    {
     "name": "stdout",
     "output_type": "stream",
     "text": [
      "Training Score: 4.655965608421148\n",
      "Test Score: 12.517143272553808\n"
     ]
    },
    {
     "name": "stderr",
     "output_type": "stream",
     "text": [
      "c:\\Users\\asus\\AppData\\Local\\Programs\\Python\\Python312\\Lib\\site-packages\\sklearn\\metrics\\_regression.py:492: FutureWarning: 'squared' is deprecated in version 1.4 and will be removed in 1.6. To calculate the root mean squared error, use the function'root_mean_squared_error'.\n",
      "  warnings.warn(\n",
      "c:\\Users\\asus\\AppData\\Local\\Programs\\Python\\Python312\\Lib\\site-packages\\sklearn\\metrics\\_regression.py:492: FutureWarning: 'squared' is deprecated in version 1.4 and will be removed in 1.6. To calculate the root mean squared error, use the function'root_mean_squared_error'.\n",
      "  warnings.warn(\n"
     ]
    }
   ],
   "source": [
    "from sklearn.ensemble import RandomForestRegressor\n",
    "rf = RandomForestRegressor(random_state=42)\n",
    "rf.fit(x_train, y_train)\n",
    "pred = rf.predict(x_train)\n",
    "rmse = mean_squared_error(pred, y_train, squared=False)\n",
    "\n",
    "print(\"Training Score:\", rmse)\n",
    "\n",
    "pred = rf.predict(x_val)\n",
    "rmse = mean_squared_error(pred, y_val, squared=False)\n",
    "print(\"Test Score:\", rmse)"
   ]
  },
  {
   "cell_type": "markdown",
   "id": "61cd8078",
   "metadata": {
    "papermill": {
     "duration": 0.012966,
     "end_time": "2023-03-15T07:41:17.366349",
     "exception": false,
     "start_time": "2023-03-15T07:41:17.353383",
     "status": "completed"
    },
    "tags": []
   },
   "source": [
    "## Deep Neural Network (MLP)"
   ]
  },
  {
   "cell_type": "code",
   "execution_count": 24,
   "id": "ab917919",
   "metadata": {
    "execution": {
     "iopub.execute_input": "2023-03-15T07:41:17.396330Z",
     "iopub.status.busy": "2023-03-15T07:41:17.395148Z",
     "iopub.status.idle": "2023-03-15T07:41:20.048930Z",
     "shell.execute_reply": "2023-03-15T07:41:20.047680Z"
    },
    "papermill": {
     "duration": 2.672384,
     "end_time": "2023-03-15T07:41:20.051929",
     "exception": false,
     "start_time": "2023-03-15T07:41:17.379545",
     "status": "completed"
    },
    "tags": []
   },
   "outputs": [],
   "source": [
    "import torch\n",
    "from torch import nn\n",
    "import random\n",
    "\n",
    "random.seed(42)\n",
    "torch.manual_seed(42)\n",
    "\n",
    "x_train_t = torch.tensor(x_train, dtype=torch.float)\n",
    "x_val_t = torch.tensor(x_val, dtype=torch.float)\n",
    "y_train_t = torch.tensor(y_train, dtype=torch.float)\n",
    "y_val_t = torch.tensor(y_val, dtype=torch.float)"
   ]
  },
  {
   "cell_type": "code",
   "execution_count": 25,
   "id": "7003f8a0",
   "metadata": {
    "execution": {
     "iopub.execute_input": "2023-03-15T07:41:20.080543Z",
     "iopub.status.busy": "2023-03-15T07:41:20.079875Z",
     "iopub.status.idle": "2023-03-15T07:41:20.085653Z",
     "shell.execute_reply": "2023-03-15T07:41:20.084566Z"
    },
    "papermill": {
     "duration": 0.022946,
     "end_time": "2023-03-15T07:41:20.088183",
     "exception": false,
     "start_time": "2023-03-15T07:41:20.065237",
     "status": "completed"
    },
    "tags": []
   },
   "outputs": [],
   "source": [
    "batch_size=100\n",
    "training_epochs=15\n",
    "learning_rate=0.001"
   ]
  },
  {
   "cell_type": "code",
   "execution_count": 26,
   "id": "873a3a4f",
   "metadata": {
    "execution": {
     "iopub.execute_input": "2023-03-15T07:41:20.116597Z",
     "iopub.status.busy": "2023-03-15T07:41:20.116146Z",
     "iopub.status.idle": "2023-03-15T07:41:20.125830Z",
     "shell.execute_reply": "2023-03-15T07:41:20.124488Z"
    },
    "papermill": {
     "duration": 0.026951,
     "end_time": "2023-03-15T07:41:20.128376",
     "exception": false,
     "start_time": "2023-03-15T07:41:20.101425",
     "status": "completed"
    },
    "tags": []
   },
   "outputs": [],
   "source": [
    "data_loader = torch.utils.data.DataLoader(dataset=torch.utils.data.TensorDataset(x_train_t, y_train_t),\n",
    "                          batch_size=batch_size,\n",
    "                          shuffle=True,\n",
    "                          drop_last=True)"
   ]
  },
  {
   "cell_type": "code",
   "execution_count": 27,
   "id": "5b42c209",
   "metadata": {
    "execution": {
     "iopub.execute_input": "2023-03-15T07:41:20.158006Z",
     "iopub.status.busy": "2023-03-15T07:41:20.157608Z",
     "iopub.status.idle": "2023-03-15T07:41:20.180451Z",
     "shell.execute_reply": "2023-03-15T07:41:20.179315Z"
    },
    "papermill": {
     "duration": 0.041285,
     "end_time": "2023-03-15T07:41:20.183267",
     "exception": false,
     "start_time": "2023-03-15T07:41:20.141982",
     "status": "completed"
    },
    "tags": []
   },
   "outputs": [],
   "source": [
    "model = nn.Sequential(nn.Linear(x_train_t.shape[1], 10),\n",
    "                      nn.ReLU(inplace=True),\n",
    "                      nn.Linear(10, y_train_t.shape[1]))"
   ]
  },
  {
   "cell_type": "code",
   "execution_count": 28,
   "id": "b2d8f5bb",
   "metadata": {
    "execution": {
     "iopub.execute_input": "2023-03-15T07:41:20.211841Z",
     "iopub.status.busy": "2023-03-15T07:41:20.211433Z",
     "iopub.status.idle": "2023-03-15T07:41:20.217057Z",
     "shell.execute_reply": "2023-03-15T07:41:20.215776Z"
    },
    "papermill": {
     "duration": 0.022636,
     "end_time": "2023-03-15T07:41:20.219266",
     "exception": false,
     "start_time": "2023-03-15T07:41:20.196630",
     "status": "completed"
    },
    "tags": []
   },
   "outputs": [],
   "source": [
    "criterion = nn.MSELoss()\n",
    "optimizer = torch.optim.SGD(model.parameters(), lr=learning_rate)"
   ]
  },
  {
   "cell_type": "code",
   "execution_count": 29,
   "id": "974df60e",
   "metadata": {
    "execution": {
     "iopub.execute_input": "2023-03-15T07:41:20.247954Z",
     "iopub.status.busy": "2023-03-15T07:41:20.247150Z",
     "iopub.status.idle": "2023-03-15T07:41:22.890402Z",
     "shell.execute_reply": "2023-03-15T07:41:22.888737Z"
    },
    "papermill": {
     "duration": 2.661525,
     "end_time": "2023-03-15T07:41:22.893909",
     "exception": false,
     "start_time": "2023-03-15T07:41:20.232384",
     "status": "completed"
    },
    "tags": []
   },
   "outputs": [
    {
     "name": "stdout",
     "output_type": "stream",
     "text": [
      "Epoch: 1 cost: 17121.82421875\n",
      "Epoch: 2 cost: 723.2614135742188\n",
      "Epoch: 3 cost: 588.4010620117188\n",
      "Epoch: 4 cost: 510.1949768066406\n",
      "Epoch: 5 cost: 483.22021484375\n",
      "Epoch: 6 cost: 453.7836608886719\n",
      "Epoch: 7 cost: 395.73681640625\n",
      "Epoch: 8 cost: 349.0601501464844\n",
      "Epoch: 9 cost: 321.693359375\n",
      "Epoch: 10 cost: 307.81976318359375\n",
      "Epoch: 11 cost: 283.3423767089844\n",
      "Epoch: 12 cost: 270.02862548828125\n",
      "Epoch: 13 cost: 257.3403015136719\n",
      "Epoch: 14 cost: 256.2890625\n",
      "Epoch: 15 cost: 244.77667236328125\n"
     ]
    }
   ],
   "source": [
    "for epoch in range(1, training_epochs+1):\n",
    "    avg_cost = 0\n",
    "    total_batch = len(data_loader)\n",
    "    \n",
    "    for x_batch, y_batch in data_loader:\n",
    "        optimizer.zero_grad()\n",
    "        hypothesis = model(x_batch)\n",
    "        cost = criterion(hypothesis, y_batch)\n",
    "        cost.backward()\n",
    "        optimizer.step()\n",
    "        \n",
    "        avg_cost += cost\n",
    "    avg_cost /= total_batch\n",
    "    if epoch%10 == 0 or True:\n",
    "        print(\"Epoch:\", epoch, \"cost:\", avg_cost.item())"
   ]
  },
  {
   "cell_type": "code",
   "execution_count": 30,
   "id": "a4880363",
   "metadata": {
    "execution": {
     "iopub.execute_input": "2023-03-15T07:41:22.925913Z",
     "iopub.status.busy": "2023-03-15T07:41:22.925504Z",
     "iopub.status.idle": "2023-03-15T07:41:22.936903Z",
     "shell.execute_reply": "2023-03-15T07:41:22.935387Z"
    },
    "papermill": {
     "duration": 0.032,
     "end_time": "2023-03-15T07:41:22.940522",
     "exception": false,
     "start_time": "2023-03-15T07:41:22.908522",
     "status": "completed"
    },
    "tags": []
   },
   "outputs": [
    {
     "name": "stdout",
     "output_type": "stream",
     "text": [
      "Test Score: 13.557713447297054\n"
     ]
    },
    {
     "name": "stderr",
     "output_type": "stream",
     "text": [
      "c:\\Users\\asus\\AppData\\Local\\Programs\\Python\\Python312\\Lib\\site-packages\\sklearn\\metrics\\_regression.py:492: FutureWarning: 'squared' is deprecated in version 1.4 and will be removed in 1.6. To calculate the root mean squared error, use the function'root_mean_squared_error'.\n",
      "  warnings.warn(\n"
     ]
    }
   ],
   "source": [
    "model.eval()\n",
    "with torch.no_grad():\n",
    "    pred = model(x_val_t)\n",
    "\n",
    "rmse = mean_squared_error(pred, y_val, squared=False)\n",
    "print(\"Test Score:\", rmse)"
   ]
  },
  {
   "cell_type": "markdown",
   "id": "8f57142e",
   "metadata": {
    "papermill": {
     "duration": 0.013548,
     "end_time": "2023-03-15T07:41:22.970054",
     "exception": false,
     "start_time": "2023-03-15T07:41:22.956506",
     "status": "completed"
    },
    "tags": []
   },
   "source": [
    "# Evaluate each model on 2022 typhoon data"
   ]
  },
  {
   "cell_type": "code",
   "execution_count": 31,
   "id": "dafb5669",
   "metadata": {
    "execution": {
     "iopub.execute_input": "2023-03-15T07:41:23.000403Z",
     "iopub.status.busy": "2023-03-15T07:41:22.999243Z",
     "iopub.status.idle": "2023-03-15T07:41:23.006750Z",
     "shell.execute_reply": "2023-03-15T07:41:23.005498Z"
    },
    "papermill": {
     "duration": 0.025409,
     "end_time": "2023-03-15T07:41:23.009316",
     "exception": false,
     "start_time": "2023-03-15T07:41:22.983907",
     "status": "completed"
    },
    "tags": []
   },
   "outputs": [],
   "source": [
    "x_test = test_typhoons[:, :2, :]\n",
    "y_test = test_typhoons[:, 2, 5:] # we don't predict year, month, day, hour, and grade\n",
    "# Flatten X data\n",
    "x_test = x_test.reshape(-1, 26)\n",
    "x_test = scale.transform(x_test)"
   ]
  },
  {
   "cell_type": "code",
   "execution_count": 32,
   "id": "432ccf67",
   "metadata": {
    "execution": {
     "iopub.execute_input": "2023-03-15T07:41:23.040181Z",
     "iopub.status.busy": "2023-03-15T07:41:23.038917Z",
     "iopub.status.idle": "2023-03-15T07:41:23.047890Z",
     "shell.execute_reply": "2023-03-15T07:41:23.046282Z"
    },
    "papermill": {
     "duration": 0.027806,
     "end_time": "2023-03-15T07:41:23.051169",
     "exception": false,
     "start_time": "2023-03-15T07:41:23.023363",
     "status": "completed"
    },
    "tags": []
   },
   "outputs": [
    {
     "name": "stdout",
     "output_type": "stream",
     "text": [
      "Test Score: 9.529680801952214\n"
     ]
    },
    {
     "name": "stderr",
     "output_type": "stream",
     "text": [
      "c:\\Users\\asus\\AppData\\Local\\Programs\\Python\\Python312\\Lib\\site-packages\\sklearn\\metrics\\_regression.py:492: FutureWarning: 'squared' is deprecated in version 1.4 and will be removed in 1.6. To calculate the root mean squared error, use the function'root_mean_squared_error'.\n",
      "  warnings.warn(\n"
     ]
    }
   ],
   "source": [
    "lr_pred = lr.predict(x_test)  # Linear Regression\n",
    "rmse = mean_squared_error(lr_pred, y_test, squared=False)\n",
    "print(\"Test Score:\", rmse)"
   ]
  },
  {
   "cell_type": "code",
   "execution_count": 33,
   "id": "33d9f61d",
   "metadata": {
    "execution": {
     "iopub.execute_input": "2023-03-15T07:41:23.082264Z",
     "iopub.status.busy": "2023-03-15T07:41:23.081545Z",
     "iopub.status.idle": "2023-03-15T07:41:23.111717Z",
     "shell.execute_reply": "2023-03-15T07:41:23.109974Z"
    },
    "papermill": {
     "duration": 0.049682,
     "end_time": "2023-03-15T07:41:23.115387",
     "exception": false,
     "start_time": "2023-03-15T07:41:23.065705",
     "status": "completed"
    },
    "tags": []
   },
   "outputs": [
    {
     "name": "stdout",
     "output_type": "stream",
     "text": [
      "Test Score: 13.334438212410182\n"
     ]
    },
    {
     "name": "stderr",
     "output_type": "stream",
     "text": [
      "c:\\Users\\asus\\AppData\\Local\\Programs\\Python\\Python312\\Lib\\site-packages\\sklearn\\metrics\\_regression.py:492: FutureWarning: 'squared' is deprecated in version 1.4 and will be removed in 1.6. To calculate the root mean squared error, use the function'root_mean_squared_error'.\n",
      "  warnings.warn(\n"
     ]
    }
   ],
   "source": [
    "rf_pred = rf.predict(x_test)  # Random Forest\n",
    "rmse = mean_squared_error(rf_pred, y_test, squared=False)\n",
    "print(\"Test Score:\", rmse)"
   ]
  },
  {
   "cell_type": "code",
   "execution_count": 34,
   "id": "df8b365b",
   "metadata": {
    "execution": {
     "iopub.execute_input": "2023-03-15T07:41:23.146026Z",
     "iopub.status.busy": "2023-03-15T07:41:23.145496Z",
     "iopub.status.idle": "2023-03-15T07:41:23.155041Z",
     "shell.execute_reply": "2023-03-15T07:41:23.153315Z"
    },
    "papermill": {
     "duration": 0.028313,
     "end_time": "2023-03-15T07:41:23.158042",
     "exception": false,
     "start_time": "2023-03-15T07:41:23.129729",
     "status": "completed"
    },
    "tags": []
   },
   "outputs": [
    {
     "name": "stdout",
     "output_type": "stream",
     "text": [
      "Test Score: 12.080343371213177\n"
     ]
    },
    {
     "name": "stderr",
     "output_type": "stream",
     "text": [
      "c:\\Users\\asus\\AppData\\Local\\Programs\\Python\\Python312\\Lib\\site-packages\\sklearn\\metrics\\_regression.py:492: FutureWarning: 'squared' is deprecated in version 1.4 and will be removed in 1.6. To calculate the root mean squared error, use the function'root_mean_squared_error'.\n",
      "  warnings.warn(\n"
     ]
    }
   ],
   "source": [
    "x_test_t = torch.tensor(x_test, dtype=torch.float)\n",
    "with torch.no_grad():\n",
    "    dl_pred = model(x_test_t)  # MLP\n",
    "\n",
    "rmse = mean_squared_error(dl_pred, y_test, squared=False)\n",
    "print(\"Test Score:\", rmse)"
   ]
  },
  {
   "cell_type": "markdown",
   "id": "1f7c29b5",
   "metadata": {
    "papermill": {
     "duration": 0.013927,
     "end_time": "2023-03-15T07:41:23.185962",
     "exception": false,
     "start_time": "2023-03-15T07:41:23.172035",
     "status": "completed"
    },
    "tags": []
   },
   "source": [
    "## Pick a sample"
   ]
  },
  {
   "cell_type": "code",
   "execution_count": 35,
   "id": "dcaff3a4",
   "metadata": {
    "execution": {
     "iopub.execute_input": "2023-03-15T07:41:23.216155Z",
     "iopub.status.busy": "2023-03-15T07:41:23.215698Z",
     "iopub.status.idle": "2023-03-15T07:41:23.223041Z",
     "shell.execute_reply": "2023-03-15T07:41:23.221877Z"
    },
    "papermill": {
     "duration": 0.025748,
     "end_time": "2023-03-15T07:41:23.225779",
     "exception": false,
     "start_time": "2023-03-15T07:41:23.200031",
     "status": "completed"
    },
    "tags": []
   },
   "outputs": [
    {
     "name": "stdout",
     "output_type": "stream",
     "text": [
      "(2, 13)\n",
      "[[2022.0, 7.0, 29.0, 12.0, 2.0, 30.1, 129.9, 1000.0, 40.0, 0.0, 0.0, 240.0, 150.0], [2022.0, 7.0, 29.0, 18.0, 2.0, 30.7, 128.5, 1000.0, 35.0, 7.105427357601002e-15, -7.105427357601002e-15, 240.0, 150.0]]\n"
     ]
    }
   ],
   "source": [
    "idx = random.randint(0, len(x_test))\n",
    "x_sample = scale.inverse_transform(x_test[idx].reshape(1, -1))\n",
    "x_sample = x_sample.reshape(2, -1)\n",
    "print(x_sample.shape)\n",
    "print(x_sample.tolist())"
   ]
  },
  {
   "cell_type": "code",
   "execution_count": 36,
   "id": "a963e720",
   "metadata": {
    "execution": {
     "iopub.execute_input": "2023-03-15T07:41:23.256360Z",
     "iopub.status.busy": "2023-03-15T07:41:23.255874Z",
     "iopub.status.idle": "2023-03-15T07:41:23.262640Z",
     "shell.execute_reply": "2023-03-15T07:41:23.261300Z"
    },
    "papermill": {
     "duration": 0.024732,
     "end_time": "2023-03-15T07:41:23.265162",
     "exception": false,
     "start_time": "2023-03-15T07:41:23.240430",
     "status": "completed"
    },
    "tags": []
   },
   "outputs": [
    {
     "name": "stderr",
     "output_type": "stream",
     "text": [
      "C:\\Users\\asus\\AppData\\Local\\Temp\\ipykernel_28076\\1659103073.py:4: DeprecationWarning: __array__ implementation doesn't accept a copy keyword, so passing copy=False failed. __array__ must implement 'dtype' and 'copy' keyword arguments.\n",
      "  dl_pred_sample = np.array(dl_pred[idx])\n"
     ]
    }
   ],
   "source": [
    "y_sample = y_test[idx]\n",
    "lr_pred_sample = np.array(lr_pred[idx])\n",
    "rf_pred_sample = np.array(rf_pred[idx])\n",
    "dl_pred_sample = np.array(dl_pred[idx])\n",
    "# print(y_sample)\n",
    "# print(pred_sample)\n",
    "# print(y_sample - pred_sample)"
   ]
  },
  {
   "cell_type": "code",
   "execution_count": 37,
   "id": "4b51fc6f",
   "metadata": {
    "execution": {
     "iopub.execute_input": "2023-03-15T07:41:23.296307Z",
     "iopub.status.busy": "2023-03-15T07:41:23.295845Z",
     "iopub.status.idle": "2023-03-15T07:41:23.576900Z",
     "shell.execute_reply": "2023-03-15T07:41:23.575419Z"
    },
    "papermill": {
     "duration": 0.300027,
     "end_time": "2023-03-15T07:41:23.579729",
     "exception": false,
     "start_time": "2023-03-15T07:41:23.279702",
     "status": "completed"
    },
    "tags": []
   },
   "outputs": [
    {
     "ename": "TypeError",
     "evalue": "Object of type float32 is not JSON serializable",
     "output_type": "error",
     "traceback": [
      "\u001b[1;31m---------------------------------------------------------------------------\u001b[0m",
      "\u001b[1;31mTypeError\u001b[0m                                 Traceback (most recent call last)",
      "File \u001b[1;32mc:\\Users\\asus\\AppData\\Local\\Programs\\Python\\Python312\\Lib\\site-packages\\IPython\\core\\formatters.py:347\u001b[0m, in \u001b[0;36mBaseFormatter.__call__\u001b[1;34m(self, obj)\u001b[0m\n\u001b[0;32m    345\u001b[0m     method \u001b[38;5;241m=\u001b[39m get_real_method(obj, \u001b[38;5;28mself\u001b[39m\u001b[38;5;241m.\u001b[39mprint_method)\n\u001b[0;32m    346\u001b[0m     \u001b[38;5;28;01mif\u001b[39;00m method \u001b[38;5;129;01mis\u001b[39;00m \u001b[38;5;129;01mnot\u001b[39;00m \u001b[38;5;28;01mNone\u001b[39;00m:\n\u001b[1;32m--> 347\u001b[0m         \u001b[38;5;28;01mreturn\u001b[39;00m \u001b[43mmethod\u001b[49m\u001b[43m(\u001b[49m\u001b[43m)\u001b[49m\n\u001b[0;32m    348\u001b[0m     \u001b[38;5;28;01mreturn\u001b[39;00m \u001b[38;5;28;01mNone\u001b[39;00m\n\u001b[0;32m    349\u001b[0m \u001b[38;5;28;01melse\u001b[39;00m:\n",
      "File \u001b[1;32mc:\\Users\\asus\\AppData\\Local\\Programs\\Python\\Python312\\Lib\\site-packages\\folium\\folium.py:336\u001b[0m, in \u001b[0;36mMap._repr_html_\u001b[1;34m(self, **kwargs)\u001b[0m\n\u001b[0;32m    334\u001b[0m     \u001b[38;5;28mself\u001b[39m\u001b[38;5;241m.\u001b[39m_parent \u001b[38;5;241m=\u001b[39m \u001b[38;5;28;01mNone\u001b[39;00m\n\u001b[0;32m    335\u001b[0m \u001b[38;5;28;01melse\u001b[39;00m:\n\u001b[1;32m--> 336\u001b[0m     out \u001b[38;5;241m=\u001b[39m \u001b[38;5;28;43mself\u001b[39;49m\u001b[38;5;241;43m.\u001b[39;49m\u001b[43m_parent\u001b[49m\u001b[38;5;241;43m.\u001b[39;49m\u001b[43m_repr_html_\u001b[49m\u001b[43m(\u001b[49m\u001b[38;5;241;43m*\u001b[39;49m\u001b[38;5;241;43m*\u001b[39;49m\u001b[43mkwargs\u001b[49m\u001b[43m)\u001b[49m\n\u001b[0;32m    337\u001b[0m \u001b[38;5;28;01mreturn\u001b[39;00m out\n",
      "File \u001b[1;32mc:\\Users\\asus\\AppData\\Local\\Programs\\Python\\Python312\\Lib\\site-packages\\branca\\element.py:410\u001b[0m, in \u001b[0;36mFigure._repr_html_\u001b[1;34m(self, **kwargs)\u001b[0m\n\u001b[0;32m    408\u001b[0m \u001b[38;5;28;01mdef\u001b[39;00m \u001b[38;5;21m_repr_html_\u001b[39m(\u001b[38;5;28mself\u001b[39m, \u001b[38;5;241m*\u001b[39m\u001b[38;5;241m*\u001b[39mkwargs) \u001b[38;5;241m-\u001b[39m\u001b[38;5;241m>\u001b[39m \u001b[38;5;28mstr\u001b[39m:\n\u001b[0;32m    409\u001b[0m \u001b[38;5;250m    \u001b[39m\u001b[38;5;124;03m\"\"\"Displays the Figure in a Jupyter notebook.\"\"\"\u001b[39;00m\n\u001b[1;32m--> 410\u001b[0m     html \u001b[38;5;241m=\u001b[39m escape(\u001b[38;5;28;43mself\u001b[39;49m\u001b[38;5;241;43m.\u001b[39;49m\u001b[43mrender\u001b[49m\u001b[43m(\u001b[49m\u001b[38;5;241;43m*\u001b[39;49m\u001b[38;5;241;43m*\u001b[39;49m\u001b[43mkwargs\u001b[49m\u001b[43m)\u001b[49m)\n\u001b[0;32m    411\u001b[0m     \u001b[38;5;28;01mif\u001b[39;00m \u001b[38;5;28mself\u001b[39m\u001b[38;5;241m.\u001b[39mheight \u001b[38;5;129;01mis\u001b[39;00m \u001b[38;5;28;01mNone\u001b[39;00m:\n\u001b[0;32m    412\u001b[0m         iframe \u001b[38;5;241m=\u001b[39m (\n\u001b[0;32m    413\u001b[0m             \u001b[38;5;124m'\u001b[39m\u001b[38;5;124m<div style=\u001b[39m\u001b[38;5;124m\"\u001b[39m\u001b[38;5;124mwidth:\u001b[39m\u001b[38;5;132;01m{width}\u001b[39;00m\u001b[38;5;124m;\u001b[39m\u001b[38;5;124m\"\u001b[39m\u001b[38;5;124m>\u001b[39m\u001b[38;5;124m'\u001b[39m\n\u001b[0;32m    414\u001b[0m             \u001b[38;5;124m'\u001b[39m\u001b[38;5;124m<div style=\u001b[39m\u001b[38;5;124m\"\u001b[39m\u001b[38;5;124mposition:relative;width:100\u001b[39m\u001b[38;5;124m%\u001b[39m\u001b[38;5;124m;height:0;padding-bottom:\u001b[39m\u001b[38;5;132;01m{ratio}\u001b[39;00m\u001b[38;5;124m;\u001b[39m\u001b[38;5;124m\"\u001b[39m\u001b[38;5;124m>\u001b[39m\u001b[38;5;124m'\u001b[39m  \u001b[38;5;66;03m# noqa\u001b[39;00m\n\u001b[1;32m   (...)\u001b[0m\n\u001b[0;32m    420\u001b[0m             \u001b[38;5;124m\"\u001b[39m\u001b[38;5;124m</div></div>\u001b[39m\u001b[38;5;124m\"\u001b[39m\n\u001b[0;32m    421\u001b[0m         )\u001b[38;5;241m.\u001b[39mformat(html\u001b[38;5;241m=\u001b[39mhtml, width\u001b[38;5;241m=\u001b[39m\u001b[38;5;28mself\u001b[39m\u001b[38;5;241m.\u001b[39mwidth, ratio\u001b[38;5;241m=\u001b[39m\u001b[38;5;28mself\u001b[39m\u001b[38;5;241m.\u001b[39mratio)\n",
      "File \u001b[1;32mc:\\Users\\asus\\AppData\\Local\\Programs\\Python\\Python312\\Lib\\site-packages\\branca\\element.py:405\u001b[0m, in \u001b[0;36mFigure.render\u001b[1;34m(self, **kwargs)\u001b[0m\n\u001b[0;32m    403\u001b[0m \u001b[38;5;250m\u001b[39m\u001b[38;5;124;03m\"\"\"Renders the HTML representation of the element.\"\"\"\u001b[39;00m\n\u001b[0;32m    404\u001b[0m \u001b[38;5;28;01mfor\u001b[39;00m name, child \u001b[38;5;129;01min\u001b[39;00m \u001b[38;5;28mself\u001b[39m\u001b[38;5;241m.\u001b[39m_children\u001b[38;5;241m.\u001b[39mitems():\n\u001b[1;32m--> 405\u001b[0m     \u001b[43mchild\u001b[49m\u001b[38;5;241;43m.\u001b[39;49m\u001b[43mrender\u001b[49m\u001b[43m(\u001b[49m\u001b[38;5;241;43m*\u001b[39;49m\u001b[38;5;241;43m*\u001b[39;49m\u001b[43mkwargs\u001b[49m\u001b[43m)\u001b[49m\n\u001b[0;32m    406\u001b[0m \u001b[38;5;28;01mreturn\u001b[39;00m \u001b[38;5;28mself\u001b[39m\u001b[38;5;241m.\u001b[39m_template\u001b[38;5;241m.\u001b[39mrender(this\u001b[38;5;241m=\u001b[39m\u001b[38;5;28mself\u001b[39m, kwargs\u001b[38;5;241m=\u001b[39mkwargs)\n",
      "File \u001b[1;32mc:\\Users\\asus\\AppData\\Local\\Programs\\Python\\Python312\\Lib\\site-packages\\folium\\folium.py:418\u001b[0m, in \u001b[0;36mMap.render\u001b[1;34m(self, **kwargs)\u001b[0m\n\u001b[0;32m    391\u001b[0m figure\u001b[38;5;241m.\u001b[39mheader\u001b[38;5;241m.\u001b[39madd_child(\n\u001b[0;32m    392\u001b[0m     Element(\n\u001b[0;32m    393\u001b[0m         \u001b[38;5;124m\"\u001b[39m\u001b[38;5;124m<style>html, body \u001b[39m\u001b[38;5;124m{\u001b[39m\u001b[38;5;124m\"\u001b[39m\n\u001b[1;32m   (...)\u001b[0m\n\u001b[0;32m    401\u001b[0m     name\u001b[38;5;241m=\u001b[39m\u001b[38;5;124m\"\u001b[39m\u001b[38;5;124mcss_style\u001b[39m\u001b[38;5;124m\"\u001b[39m,\n\u001b[0;32m    402\u001b[0m )\n\u001b[0;32m    404\u001b[0m figure\u001b[38;5;241m.\u001b[39mheader\u001b[38;5;241m.\u001b[39madd_child(\n\u001b[0;32m    405\u001b[0m     Element(\n\u001b[0;32m    406\u001b[0m         \u001b[38;5;124m\"\u001b[39m\u001b[38;5;124m<style>#map \u001b[39m\u001b[38;5;124m{\u001b[39m\u001b[38;5;124m\"\u001b[39m\n\u001b[1;32m   (...)\u001b[0m\n\u001b[0;32m    415\u001b[0m     name\u001b[38;5;241m=\u001b[39m\u001b[38;5;124m\"\u001b[39m\u001b[38;5;124mmap_style\u001b[39m\u001b[38;5;124m\"\u001b[39m,\n\u001b[0;32m    416\u001b[0m )\n\u001b[1;32m--> 418\u001b[0m \u001b[38;5;28;43msuper\u001b[39;49m\u001b[43m(\u001b[49m\u001b[43m)\u001b[49m\u001b[38;5;241;43m.\u001b[39;49m\u001b[43mrender\u001b[49m\u001b[43m(\u001b[49m\u001b[38;5;241;43m*\u001b[39;49m\u001b[38;5;241;43m*\u001b[39;49m\u001b[43mkwargs\u001b[49m\u001b[43m)\u001b[49m\n",
      "File \u001b[1;32mc:\\Users\\asus\\AppData\\Local\\Programs\\Python\\Python312\\Lib\\site-packages\\folium\\elements.py:27\u001b[0m, in \u001b[0;36mJSCSSMixin.render\u001b[1;34m(self, **kwargs)\u001b[0m\n\u001b[0;32m     24\u001b[0m \u001b[38;5;28;01mfor\u001b[39;00m name, url \u001b[38;5;129;01min\u001b[39;00m \u001b[38;5;28mself\u001b[39m\u001b[38;5;241m.\u001b[39mdefault_css:\n\u001b[0;32m     25\u001b[0m     figure\u001b[38;5;241m.\u001b[39mheader\u001b[38;5;241m.\u001b[39madd_child(CssLink(url), name\u001b[38;5;241m=\u001b[39mname)\n\u001b[1;32m---> 27\u001b[0m \u001b[38;5;28;43msuper\u001b[39;49m\u001b[43m(\u001b[49m\u001b[43m)\u001b[49m\u001b[38;5;241;43m.\u001b[39;49m\u001b[43mrender\u001b[49m\u001b[43m(\u001b[49m\u001b[38;5;241;43m*\u001b[39;49m\u001b[38;5;241;43m*\u001b[39;49m\u001b[43mkwargs\u001b[49m\u001b[43m)\u001b[49m\n",
      "File \u001b[1;32mc:\\Users\\asus\\AppData\\Local\\Programs\\Python\\Python312\\Lib\\site-packages\\branca\\element.py:736\u001b[0m, in \u001b[0;36mMacroElement.render\u001b[1;34m(self, **kwargs)\u001b[0m\n\u001b[0;32m    733\u001b[0m     figure\u001b[38;5;241m.\u001b[39mscript\u001b[38;5;241m.\u001b[39madd_child(Element(script(\u001b[38;5;28mself\u001b[39m, kwargs)), name\u001b[38;5;241m=\u001b[39m\u001b[38;5;28mself\u001b[39m\u001b[38;5;241m.\u001b[39mget_name())\n\u001b[0;32m    735\u001b[0m \u001b[38;5;28;01mfor\u001b[39;00m name, element \u001b[38;5;129;01min\u001b[39;00m \u001b[38;5;28mself\u001b[39m\u001b[38;5;241m.\u001b[39m_children\u001b[38;5;241m.\u001b[39mitems():\n\u001b[1;32m--> 736\u001b[0m     \u001b[43melement\u001b[49m\u001b[38;5;241;43m.\u001b[39;49m\u001b[43mrender\u001b[49m\u001b[43m(\u001b[49m\u001b[38;5;241;43m*\u001b[39;49m\u001b[38;5;241;43m*\u001b[39;49m\u001b[43mkwargs\u001b[49m\u001b[43m)\u001b[49m\n",
      "File \u001b[1;32mc:\\Users\\asus\\AppData\\Local\\Programs\\Python\\Python312\\Lib\\site-packages\\folium\\map.py:403\u001b[0m, in \u001b[0;36mMarker.render\u001b[1;34m(self)\u001b[0m\n\u001b[0;32m    399\u001b[0m \u001b[38;5;28;01mif\u001b[39;00m \u001b[38;5;28mself\u001b[39m\u001b[38;5;241m.\u001b[39mlocation \u001b[38;5;129;01mis\u001b[39;00m \u001b[38;5;28;01mNone\u001b[39;00m:\n\u001b[0;32m    400\u001b[0m     \u001b[38;5;28;01mraise\u001b[39;00m \u001b[38;5;167;01mValueError\u001b[39;00m(\n\u001b[0;32m    401\u001b[0m         \u001b[38;5;124mf\u001b[39m\u001b[38;5;124m\"\u001b[39m\u001b[38;5;132;01m{\u001b[39;00m\u001b[38;5;28mself\u001b[39m\u001b[38;5;241m.\u001b[39m_name\u001b[38;5;132;01m}\u001b[39;00m\u001b[38;5;124m location must be assigned when added directly to map.\u001b[39m\u001b[38;5;124m\"\u001b[39m\n\u001b[0;32m    402\u001b[0m     )\n\u001b[1;32m--> 403\u001b[0m \u001b[38;5;28;43msuper\u001b[39;49m\u001b[43m(\u001b[49m\u001b[43m)\u001b[49m\u001b[38;5;241;43m.\u001b[39;49m\u001b[43mrender\u001b[49m\u001b[43m(\u001b[49m\u001b[43m)\u001b[49m\n",
      "File \u001b[1;32mc:\\Users\\asus\\AppData\\Local\\Programs\\Python\\Python312\\Lib\\site-packages\\branca\\element.py:733\u001b[0m, in \u001b[0;36mMacroElement.render\u001b[1;34m(self, **kwargs)\u001b[0m\n\u001b[0;32m    731\u001b[0m script \u001b[38;5;241m=\u001b[39m \u001b[38;5;28mself\u001b[39m\u001b[38;5;241m.\u001b[39m_template\u001b[38;5;241m.\u001b[39mmodule\u001b[38;5;241m.\u001b[39m\u001b[38;5;18m__dict__\u001b[39m\u001b[38;5;241m.\u001b[39mget(\u001b[38;5;124m\"\u001b[39m\u001b[38;5;124mscript\u001b[39m\u001b[38;5;124m\"\u001b[39m, \u001b[38;5;28;01mNone\u001b[39;00m)\n\u001b[0;32m    732\u001b[0m \u001b[38;5;28;01mif\u001b[39;00m script \u001b[38;5;129;01mis\u001b[39;00m \u001b[38;5;129;01mnot\u001b[39;00m \u001b[38;5;28;01mNone\u001b[39;00m:\n\u001b[1;32m--> 733\u001b[0m     figure\u001b[38;5;241m.\u001b[39mscript\u001b[38;5;241m.\u001b[39madd_child(Element(\u001b[43mscript\u001b[49m\u001b[43m(\u001b[49m\u001b[38;5;28;43mself\u001b[39;49m\u001b[43m,\u001b[49m\u001b[43m \u001b[49m\u001b[43mkwargs\u001b[49m\u001b[43m)\u001b[49m), name\u001b[38;5;241m=\u001b[39m\u001b[38;5;28mself\u001b[39m\u001b[38;5;241m.\u001b[39mget_name())\n\u001b[0;32m    735\u001b[0m \u001b[38;5;28;01mfor\u001b[39;00m name, element \u001b[38;5;129;01min\u001b[39;00m \u001b[38;5;28mself\u001b[39m\u001b[38;5;241m.\u001b[39m_children\u001b[38;5;241m.\u001b[39mitems():\n\u001b[0;32m    736\u001b[0m     element\u001b[38;5;241m.\u001b[39mrender(\u001b[38;5;241m*\u001b[39m\u001b[38;5;241m*\u001b[39mkwargs)\n",
      "File \u001b[1;32mc:\\Users\\asus\\AppData\\Local\\Programs\\Python\\Python312\\Lib\\site-packages\\jinja2\\runtime.py:768\u001b[0m, in \u001b[0;36mMacro.__call__\u001b[1;34m(self, *args, **kwargs)\u001b[0m\n\u001b[0;32m    762\u001b[0m \u001b[38;5;28;01melif\u001b[39;00m \u001b[38;5;28mlen\u001b[39m(args) \u001b[38;5;241m>\u001b[39m \u001b[38;5;28mself\u001b[39m\u001b[38;5;241m.\u001b[39m_argument_count:\n\u001b[0;32m    763\u001b[0m     \u001b[38;5;28;01mraise\u001b[39;00m \u001b[38;5;167;01mTypeError\u001b[39;00m(\n\u001b[0;32m    764\u001b[0m         \u001b[38;5;124mf\u001b[39m\u001b[38;5;124m\"\u001b[39m\u001b[38;5;124mmacro \u001b[39m\u001b[38;5;132;01m{\u001b[39;00m\u001b[38;5;28mself\u001b[39m\u001b[38;5;241m.\u001b[39mname\u001b[38;5;132;01m!r}\u001b[39;00m\u001b[38;5;124m takes not more than\u001b[39m\u001b[38;5;124m\"\u001b[39m\n\u001b[0;32m    765\u001b[0m         \u001b[38;5;124mf\u001b[39m\u001b[38;5;124m\"\u001b[39m\u001b[38;5;124m \u001b[39m\u001b[38;5;132;01m{\u001b[39;00m\u001b[38;5;28mlen\u001b[39m(\u001b[38;5;28mself\u001b[39m\u001b[38;5;241m.\u001b[39marguments)\u001b[38;5;132;01m}\u001b[39;00m\u001b[38;5;124m argument(s)\u001b[39m\u001b[38;5;124m\"\u001b[39m\n\u001b[0;32m    766\u001b[0m     )\n\u001b[1;32m--> 768\u001b[0m \u001b[38;5;28;01mreturn\u001b[39;00m \u001b[38;5;28;43mself\u001b[39;49m\u001b[38;5;241;43m.\u001b[39;49m\u001b[43m_invoke\u001b[49m\u001b[43m(\u001b[49m\u001b[43marguments\u001b[49m\u001b[43m,\u001b[49m\u001b[43m \u001b[49m\u001b[43mautoescape\u001b[49m\u001b[43m)\u001b[49m\n",
      "File \u001b[1;32mc:\\Users\\asus\\AppData\\Local\\Programs\\Python\\Python312\\Lib\\site-packages\\jinja2\\runtime.py:782\u001b[0m, in \u001b[0;36mMacro._invoke\u001b[1;34m(self, arguments, autoescape)\u001b[0m\n\u001b[0;32m    779\u001b[0m \u001b[38;5;28;01mif\u001b[39;00m \u001b[38;5;28mself\u001b[39m\u001b[38;5;241m.\u001b[39m_environment\u001b[38;5;241m.\u001b[39mis_async:\n\u001b[0;32m    780\u001b[0m     \u001b[38;5;28;01mreturn\u001b[39;00m \u001b[38;5;28mself\u001b[39m\u001b[38;5;241m.\u001b[39m_async_invoke(arguments, autoescape)  \u001b[38;5;66;03m# type: ignore\u001b[39;00m\n\u001b[1;32m--> 782\u001b[0m rv \u001b[38;5;241m=\u001b[39m \u001b[38;5;28;43mself\u001b[39;49m\u001b[38;5;241;43m.\u001b[39;49m\u001b[43m_func\u001b[49m\u001b[43m(\u001b[49m\u001b[38;5;241;43m*\u001b[39;49m\u001b[43marguments\u001b[49m\u001b[43m)\u001b[49m\n\u001b[0;32m    784\u001b[0m \u001b[38;5;28;01mif\u001b[39;00m autoescape:\n\u001b[0;32m    785\u001b[0m     rv \u001b[38;5;241m=\u001b[39m Markup(rv)\n",
      "File \u001b[1;32m<template>:32\u001b[0m, in \u001b[0;36mmacro\u001b[1;34m(l_1_this, l_1_kwargs)\u001b[0m\n",
      "File \u001b[1;32mc:\\Users\\asus\\AppData\\Local\\Programs\\Python\\Python312\\Lib\\site-packages\\jinja2\\filters.py:1714\u001b[0m, in \u001b[0;36mdo_tojson\u001b[1;34m(eval_ctx, value, indent)\u001b[0m\n\u001b[0;32m   1711\u001b[0m     kwargs \u001b[38;5;241m=\u001b[39m kwargs\u001b[38;5;241m.\u001b[39mcopy()\n\u001b[0;32m   1712\u001b[0m     kwargs[\u001b[38;5;124m\"\u001b[39m\u001b[38;5;124mindent\u001b[39m\u001b[38;5;124m\"\u001b[39m] \u001b[38;5;241m=\u001b[39m indent\n\u001b[1;32m-> 1714\u001b[0m \u001b[38;5;28;01mreturn\u001b[39;00m \u001b[43mhtmlsafe_json_dumps\u001b[49m\u001b[43m(\u001b[49m\u001b[43mvalue\u001b[49m\u001b[43m,\u001b[49m\u001b[43m \u001b[49m\u001b[43mdumps\u001b[49m\u001b[38;5;241;43m=\u001b[39;49m\u001b[43mdumps\u001b[49m\u001b[43m,\u001b[49m\u001b[43m \u001b[49m\u001b[38;5;241;43m*\u001b[39;49m\u001b[38;5;241;43m*\u001b[39;49m\u001b[43mkwargs\u001b[49m\u001b[43m)\u001b[49m\n",
      "File \u001b[1;32mc:\\Users\\asus\\AppData\\Local\\Programs\\Python\\Python312\\Lib\\site-packages\\jinja2\\utils.py:658\u001b[0m, in \u001b[0;36mhtmlsafe_json_dumps\u001b[1;34m(obj, dumps, **kwargs)\u001b[0m\n\u001b[0;32m    654\u001b[0m \u001b[38;5;28;01mif\u001b[39;00m dumps \u001b[38;5;129;01mis\u001b[39;00m \u001b[38;5;28;01mNone\u001b[39;00m:\n\u001b[0;32m    655\u001b[0m     dumps \u001b[38;5;241m=\u001b[39m json\u001b[38;5;241m.\u001b[39mdumps\n\u001b[0;32m    657\u001b[0m \u001b[38;5;28;01mreturn\u001b[39;00m markupsafe\u001b[38;5;241m.\u001b[39mMarkup(\n\u001b[1;32m--> 658\u001b[0m     \u001b[43mdumps\u001b[49m\u001b[43m(\u001b[49m\u001b[43mobj\u001b[49m\u001b[43m,\u001b[49m\u001b[43m \u001b[49m\u001b[38;5;241;43m*\u001b[39;49m\u001b[38;5;241;43m*\u001b[39;49m\u001b[43mkwargs\u001b[49m\u001b[43m)\u001b[49m\n\u001b[0;32m    659\u001b[0m     \u001b[38;5;241m.\u001b[39mreplace(\u001b[38;5;124m\"\u001b[39m\u001b[38;5;124m<\u001b[39m\u001b[38;5;124m\"\u001b[39m, \u001b[38;5;124m\"\u001b[39m\u001b[38;5;130;01m\\\\\u001b[39;00m\u001b[38;5;124mu003c\u001b[39m\u001b[38;5;124m\"\u001b[39m)\n\u001b[0;32m    660\u001b[0m     \u001b[38;5;241m.\u001b[39mreplace(\u001b[38;5;124m\"\u001b[39m\u001b[38;5;124m>\u001b[39m\u001b[38;5;124m\"\u001b[39m, \u001b[38;5;124m\"\u001b[39m\u001b[38;5;130;01m\\\\\u001b[39;00m\u001b[38;5;124mu003e\u001b[39m\u001b[38;5;124m\"\u001b[39m)\n\u001b[0;32m    661\u001b[0m     \u001b[38;5;241m.\u001b[39mreplace(\u001b[38;5;124m\"\u001b[39m\u001b[38;5;124m&\u001b[39m\u001b[38;5;124m\"\u001b[39m, \u001b[38;5;124m\"\u001b[39m\u001b[38;5;130;01m\\\\\u001b[39;00m\u001b[38;5;124mu0026\u001b[39m\u001b[38;5;124m\"\u001b[39m)\n\u001b[0;32m    662\u001b[0m     \u001b[38;5;241m.\u001b[39mreplace(\u001b[38;5;124m\"\u001b[39m\u001b[38;5;124m'\u001b[39m\u001b[38;5;124m\"\u001b[39m, \u001b[38;5;124m\"\u001b[39m\u001b[38;5;130;01m\\\\\u001b[39;00m\u001b[38;5;124mu0027\u001b[39m\u001b[38;5;124m\"\u001b[39m)\n\u001b[0;32m    663\u001b[0m )\n",
      "File \u001b[1;32mc:\\Users\\asus\\AppData\\Local\\Programs\\Python\\Python312\\Lib\\json\\__init__.py:238\u001b[0m, in \u001b[0;36mdumps\u001b[1;34m(obj, skipkeys, ensure_ascii, check_circular, allow_nan, cls, indent, separators, default, sort_keys, **kw)\u001b[0m\n\u001b[0;32m    232\u001b[0m \u001b[38;5;28;01mif\u001b[39;00m \u001b[38;5;28mcls\u001b[39m \u001b[38;5;129;01mis\u001b[39;00m \u001b[38;5;28;01mNone\u001b[39;00m:\n\u001b[0;32m    233\u001b[0m     \u001b[38;5;28mcls\u001b[39m \u001b[38;5;241m=\u001b[39m JSONEncoder\n\u001b[0;32m    234\u001b[0m \u001b[38;5;28;01mreturn\u001b[39;00m \u001b[38;5;28;43mcls\u001b[39;49m\u001b[43m(\u001b[49m\n\u001b[0;32m    235\u001b[0m \u001b[43m    \u001b[49m\u001b[43mskipkeys\u001b[49m\u001b[38;5;241;43m=\u001b[39;49m\u001b[43mskipkeys\u001b[49m\u001b[43m,\u001b[49m\u001b[43m \u001b[49m\u001b[43mensure_ascii\u001b[49m\u001b[38;5;241;43m=\u001b[39;49m\u001b[43mensure_ascii\u001b[49m\u001b[43m,\u001b[49m\n\u001b[0;32m    236\u001b[0m \u001b[43m    \u001b[49m\u001b[43mcheck_circular\u001b[49m\u001b[38;5;241;43m=\u001b[39;49m\u001b[43mcheck_circular\u001b[49m\u001b[43m,\u001b[49m\u001b[43m \u001b[49m\u001b[43mallow_nan\u001b[49m\u001b[38;5;241;43m=\u001b[39;49m\u001b[43mallow_nan\u001b[49m\u001b[43m,\u001b[49m\u001b[43m \u001b[49m\u001b[43mindent\u001b[49m\u001b[38;5;241;43m=\u001b[39;49m\u001b[43mindent\u001b[49m\u001b[43m,\u001b[49m\n\u001b[0;32m    237\u001b[0m \u001b[43m    \u001b[49m\u001b[43mseparators\u001b[49m\u001b[38;5;241;43m=\u001b[39;49m\u001b[43mseparators\u001b[49m\u001b[43m,\u001b[49m\u001b[43m \u001b[49m\u001b[43mdefault\u001b[49m\u001b[38;5;241;43m=\u001b[39;49m\u001b[43mdefault\u001b[49m\u001b[43m,\u001b[49m\u001b[43m \u001b[49m\u001b[43msort_keys\u001b[49m\u001b[38;5;241;43m=\u001b[39;49m\u001b[43msort_keys\u001b[49m\u001b[43m,\u001b[49m\n\u001b[1;32m--> 238\u001b[0m \u001b[43m    \u001b[49m\u001b[38;5;241;43m*\u001b[39;49m\u001b[38;5;241;43m*\u001b[39;49m\u001b[43mkw\u001b[49m\u001b[43m)\u001b[49m\u001b[38;5;241;43m.\u001b[39;49m\u001b[43mencode\u001b[49m\u001b[43m(\u001b[49m\u001b[43mobj\u001b[49m\u001b[43m)\u001b[49m\n",
      "File \u001b[1;32mc:\\Users\\asus\\AppData\\Local\\Programs\\Python\\Python312\\Lib\\json\\encoder.py:200\u001b[0m, in \u001b[0;36mJSONEncoder.encode\u001b[1;34m(self, o)\u001b[0m\n\u001b[0;32m    196\u001b[0m         \u001b[38;5;28;01mreturn\u001b[39;00m encode_basestring(o)\n\u001b[0;32m    197\u001b[0m \u001b[38;5;66;03m# This doesn't pass the iterator directly to ''.join() because the\u001b[39;00m\n\u001b[0;32m    198\u001b[0m \u001b[38;5;66;03m# exceptions aren't as detailed.  The list call should be roughly\u001b[39;00m\n\u001b[0;32m    199\u001b[0m \u001b[38;5;66;03m# equivalent to the PySequence_Fast that ''.join() would do.\u001b[39;00m\n\u001b[1;32m--> 200\u001b[0m chunks \u001b[38;5;241m=\u001b[39m \u001b[38;5;28;43mself\u001b[39;49m\u001b[38;5;241;43m.\u001b[39;49m\u001b[43miterencode\u001b[49m\u001b[43m(\u001b[49m\u001b[43mo\u001b[49m\u001b[43m,\u001b[49m\u001b[43m \u001b[49m\u001b[43m_one_shot\u001b[49m\u001b[38;5;241;43m=\u001b[39;49m\u001b[38;5;28;43;01mTrue\u001b[39;49;00m\u001b[43m)\u001b[49m\n\u001b[0;32m    201\u001b[0m \u001b[38;5;28;01mif\u001b[39;00m \u001b[38;5;129;01mnot\u001b[39;00m \u001b[38;5;28misinstance\u001b[39m(chunks, (\u001b[38;5;28mlist\u001b[39m, \u001b[38;5;28mtuple\u001b[39m)):\n\u001b[0;32m    202\u001b[0m     chunks \u001b[38;5;241m=\u001b[39m \u001b[38;5;28mlist\u001b[39m(chunks)\n",
      "File \u001b[1;32mc:\\Users\\asus\\AppData\\Local\\Programs\\Python\\Python312\\Lib\\json\\encoder.py:258\u001b[0m, in \u001b[0;36mJSONEncoder.iterencode\u001b[1;34m(self, o, _one_shot)\u001b[0m\n\u001b[0;32m    253\u001b[0m \u001b[38;5;28;01melse\u001b[39;00m:\n\u001b[0;32m    254\u001b[0m     _iterencode \u001b[38;5;241m=\u001b[39m _make_iterencode(\n\u001b[0;32m    255\u001b[0m         markers, \u001b[38;5;28mself\u001b[39m\u001b[38;5;241m.\u001b[39mdefault, _encoder, \u001b[38;5;28mself\u001b[39m\u001b[38;5;241m.\u001b[39mindent, floatstr,\n\u001b[0;32m    256\u001b[0m         \u001b[38;5;28mself\u001b[39m\u001b[38;5;241m.\u001b[39mkey_separator, \u001b[38;5;28mself\u001b[39m\u001b[38;5;241m.\u001b[39mitem_separator, \u001b[38;5;28mself\u001b[39m\u001b[38;5;241m.\u001b[39msort_keys,\n\u001b[0;32m    257\u001b[0m         \u001b[38;5;28mself\u001b[39m\u001b[38;5;241m.\u001b[39mskipkeys, _one_shot)\n\u001b[1;32m--> 258\u001b[0m \u001b[38;5;28;01mreturn\u001b[39;00m \u001b[43m_iterencode\u001b[49m\u001b[43m(\u001b[49m\u001b[43mo\u001b[49m\u001b[43m,\u001b[49m\u001b[43m \u001b[49m\u001b[38;5;241;43m0\u001b[39;49m\u001b[43m)\u001b[49m\n",
      "File \u001b[1;32mc:\\Users\\asus\\AppData\\Local\\Programs\\Python\\Python312\\Lib\\json\\encoder.py:180\u001b[0m, in \u001b[0;36mJSONEncoder.default\u001b[1;34m(self, o)\u001b[0m\n\u001b[0;32m    161\u001b[0m \u001b[38;5;28;01mdef\u001b[39;00m \u001b[38;5;21mdefault\u001b[39m(\u001b[38;5;28mself\u001b[39m, o):\n\u001b[0;32m    162\u001b[0m \u001b[38;5;250m    \u001b[39m\u001b[38;5;124;03m\"\"\"Implement this method in a subclass such that it returns\u001b[39;00m\n\u001b[0;32m    163\u001b[0m \u001b[38;5;124;03m    a serializable object for ``o``, or calls the base implementation\u001b[39;00m\n\u001b[0;32m    164\u001b[0m \u001b[38;5;124;03m    (to raise a ``TypeError``).\u001b[39;00m\n\u001b[1;32m   (...)\u001b[0m\n\u001b[0;32m    178\u001b[0m \n\u001b[0;32m    179\u001b[0m \u001b[38;5;124;03m    \"\"\"\u001b[39;00m\n\u001b[1;32m--> 180\u001b[0m     \u001b[38;5;28;01mraise\u001b[39;00m \u001b[38;5;167;01mTypeError\u001b[39;00m(\u001b[38;5;124mf\u001b[39m\u001b[38;5;124m'\u001b[39m\u001b[38;5;124mObject of type \u001b[39m\u001b[38;5;132;01m{\u001b[39;00mo\u001b[38;5;241m.\u001b[39m\u001b[38;5;18m__class__\u001b[39m\u001b[38;5;241m.\u001b[39m\u001b[38;5;18m__name__\u001b[39m\u001b[38;5;132;01m}\u001b[39;00m\u001b[38;5;124m \u001b[39m\u001b[38;5;124m'\u001b[39m\n\u001b[0;32m    181\u001b[0m                     \u001b[38;5;124mf\u001b[39m\u001b[38;5;124m'\u001b[39m\u001b[38;5;124mis not JSON serializable\u001b[39m\u001b[38;5;124m'\u001b[39m)\n",
      "\u001b[1;31mTypeError\u001b[0m: Object of type float32 is not JSON serializable"
     ]
    },
    {
     "data": {
      "text/plain": [
       "<folium.folium.Map at 0x1429d9b2c60>"
      ]
     },
     "execution_count": 37,
     "metadata": {},
     "output_type": "execute_result"
    }
   ],
   "source": [
    "import folium\n",
    "m = folium.Map(location=[x_sample[0][5], x_sample[0][6]], zoom_start=5, width=600, height=600)\n",
    "folium.Circle(location=[x_sample[0][5], x_sample[0][6]],\n",
    "             radius=x_sample[0][11]*1852,  #  nautical mile to meter\n",
    "             fill=True,\n",
    "             color=\"black\",\n",
    "             fill_color=\"yellow\")#.add_to(m)\n",
    "folium.Circle(location=[x_sample[1][5], x_sample[1][6]],\n",
    "             radius=x_sample[1][11]*1852,  #  nautical mile to meter\n",
    "             fill=True,\n",
    "             color=\"black\",\n",
    "             fill_color=\"yellow\")#.add_to(m)\n",
    "folium.Circle(location=[y_sample[0], y_sample[1]],\n",
    "             radius=y_sample[-2]*1852,  #  nautical mile to meter\n",
    "             fill=True,\n",
    "             color=\"purple\",\n",
    "             fill_color=\"orange\").add_to(m)\n",
    "\n",
    "folium.Circle(location=[lr_pred_sample[0], lr_pred_sample[1]],\n",
    "             radius=lr_pred_sample[-2]*1852,  #  nautical mile to meter\n",
    "             fill=True,\n",
    "             color=\"blue\",\n",
    "             fill_color=\"red\").add_to(m)\n",
    "folium.Circle(location=[rf_pred_sample[0], rf_pred_sample[1]],\n",
    "             radius=rf_pred_sample[-2]*1852,  #  nautical mile to meter\n",
    "             fill=True,\n",
    "             color=\"green\",\n",
    "             fill_color=\"red\").add_to(m)\n",
    "folium.Circle(location=[dl_pred_sample[0], dl_pred_sample[1]],\n",
    "             radius=dl_pred_sample[-2]*1852,  #  nautical mile to meter\n",
    "             fill=True,\n",
    "             color=\"black\",\n",
    "             fill_color=\"red\").add_to(m)\n",
    "m"
   ]
  },
  {
   "cell_type": "markdown",
   "id": "c47308d9",
   "metadata": {
    "papermill": {
     "duration": 0.013883,
     "end_time": "2023-03-15T07:41:23.608082",
     "exception": false,
     "start_time": "2023-03-15T07:41:23.594199",
     "status": "completed"
    },
    "tags": []
   },
   "source": [
    "- Linear Regression creates the most satisfing results in both quantitative and qualitative evaluation.\n",
    "- Deep Learning is not good as expected.. But there is a room for improvement!"
   ]
  }
 ],
 "metadata": {
  "kernelspec": {
   "display_name": "Python 3",
   "language": "python",
   "name": "python3"
  },
  "language_info": {
   "codemirror_mode": {
    "name": "ipython",
    "version": 3
   },
   "file_extension": ".py",
   "mimetype": "text/x-python",
   "name": "python",
   "nbconvert_exporter": "python",
   "pygments_lexer": "ipython3",
   "version": "3.12.6"
  },
  "papermill": {
   "default_parameters": {},
   "duration": 70.965665,
   "end_time": "2023-03-15T07:41:24.748364",
   "environment_variables": {},
   "exception": null,
   "input_path": "__notebook__.ipynb",
   "output_path": "__notebook__.ipynb",
   "parameters": {},
   "start_time": "2023-03-15T07:40:13.782699",
   "version": "2.4.0"
  }
 },
 "nbformat": 4,
 "nbformat_minor": 5
}
